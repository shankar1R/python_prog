{
 "cells": [
  {
   "attachments": {},
   "cell_type": "markdown",
   "metadata": {},
   "source": [
    "Assignment on python fundamentals"
   ]
  },
  {
   "attachments": {},
   "cell_type": "markdown",
   "metadata": {},
   "source": [
    "#1. program to print sum two numbers"
   ]
  },
  {
   "cell_type": "code",
   "execution_count": 1,
   "metadata": {},
   "outputs": [
    {
     "name": "stdout",
     "output_type": "stream",
     "text": [
      "9\n"
     ]
    }
   ],
   "source": [
    "\n",
    "a=3\n",
    "b=6\n",
    "sum=a+b\n",
    "print(sum)"
   ]
  },
  {
   "attachments": {},
   "cell_type": "markdown",
   "metadata": {},
   "source": [
    "#2.program to find square root of numbers"
   ]
  },
  {
   "cell_type": "code",
   "execution_count": 2,
   "metadata": {},
   "outputs": [
    {
     "name": "stdout",
     "output_type": "stream",
     "text": [
      "5.0\n"
     ]
    }
   ],
   "source": [
    "\n",
    "import math\n",
    "print(math.sqrt(25))"
   ]
  },
  {
   "attachments": {},
   "cell_type": "markdown",
   "metadata": {},
   "source": [
    " #3. python program to calculate the area of traingle"
   ]
  },
  {
   "cell_type": "code",
   "execution_count": 3,
   "metadata": {},
   "outputs": [
    {
     "name": "stdout",
     "output_type": "stream",
     "text": [
      "area of triangle 90.0\n"
     ]
    }
   ],
   "source": [
    "# Area of tringle\n",
    "b,h=12,15\n",
    "area=(0.5*b*h)\n",
    "print(\"area of triangle\",area)\n"
   ]
  },
  {
   "attachments": {},
   "cell_type": "markdown",
   "metadata": {},
   "source": [
    "\n",
    "\n",
    " #4.python program simple interest"
   ]
  },
  {
   "cell_type": "code",
   "execution_count": 4,
   "metadata": {},
   "outputs": [
    {
     "name": "stdout",
     "output_type": "stream",
     "text": [
      "simple intrest 1500.0\n"
     ]
    }
   ],
   "source": [
    "\n",
    "p,t,r,=5000,5,6\n",
    "si=p*(t*r)/100\n",
    "print(\"simple intrest\",si)"
   ]
  },
  {
   "attachments": {},
   "cell_type": "markdown",
   "metadata": {},
   "source": [
    "#5.python program for compound interest"
   ]
  },
  {
   "cell_type": "code",
   "execution_count": 9,
   "metadata": {},
   "outputs": [
    {
     "name": "stdout",
     "output_type": "stream",
     "text": [
      "1329.6\n",
      "compound interest 1329.6\n",
      "principle amount 1200 time 2 rate 5.4 amount 1203.4992 ci= 129.5999999999999\n"
     ]
    }
   ],
   "source": [
    "\n",
    "p=1200\n",
    "t=2\n",
    "r=5.4\n",
    "a=p*(1+(r/100))*t\n",
    "ci=a-p\n",
    "print(ci)\n",
    "print(\"compound interest\",ci)\n",
    "\n",
    "                #OR\n",
    "\n",
    "print(\"principle amount\",1200,\"time\",2,\"rate\",5.4,\"amount\",1200*(1+(5.4/100)**2),\"ci=\",1329.6-1200)"
   ]
  },
  {
   "attachments": {},
   "cell_type": "markdown",
   "metadata": {},
   "source": [
    "#6.program to print area of circle"
   ]
  },
  {
   "cell_type": "code",
   "execution_count": 11,
   "metadata": {},
   "outputs": [
    {
     "name": "stdout",
     "output_type": "stream",
     "text": [
      " area of circle 314.2\n"
     ]
    }
   ],
   "source": [
    "r=10\n",
    "area=3.142*r*r\n",
    "print(\" area of circle\",area)"
   ]
  },
  {
   "attachments": {},
   "cell_type": "markdown",
   "metadata": {},
   "source": [
    "7.program to find swap of numbers "
   ]
  },
  {
   "cell_type": "code",
   "execution_count": 13,
   "metadata": {},
   "outputs": [
    {
     "name": "stdout",
     "output_type": "stream",
     "text": [
      "value 58 132\n"
     ]
    }
   ],
   "source": [
    "p,q=132,58\n",
    "p,q=q,p\n",
    "print(\"value\",p,q)"
   ]
  },
  {
   "attachments": {},
   "cell_type": "markdown",
   "metadata": {},
   "source": [
    "8. python program to generate a random number randint() function\n"
   ]
  },
  {
   "cell_type": "code",
   "execution_count": 32,
   "metadata": {},
   "outputs": [
    {
     "name": "stdout",
     "output_type": "stream",
     "text": [
      "6\n"
     ]
    }
   ],
   "source": [
    "import random\n",
    "\n",
    "print(random.randint(0,9))"
   ]
  },
  {
   "attachments": {},
   "cell_type": "markdown",
   "metadata": {},
   "source": [
    "\n",
    "9. Python Program to Convert Kilometers to Miles "
   ]
  },
  {
   "cell_type": "code",
   "execution_count": 33,
   "metadata": {},
   "outputs": [
    {
     "name": "stdout",
     "output_type": "stream",
     "text": [
      "7.4564520000000005\n"
     ]
    }
   ],
   "source": [
    "k=int(input(\"enter the value in kilometer\"))\n",
    "\n",
    "def kilometer(k):\n",
    "    result=k*0.621371\n",
    "    return result\n",
    "\n",
    "ans=kilometer(k)\n",
    "print(ans)"
   ]
  },
  {
   "attachments": {},
   "cell_type": "markdown",
   "metadata": {},
   "source": [
    "9.python program to check if a numbersis positive negative or 0"
   ]
  },
  {
   "cell_type": "code",
   "execution_count": 37,
   "metadata": {},
   "outputs": [
    {
     "name": "stdout",
     "output_type": "stream",
     "text": [
      "value of number  is nagative -5\n"
     ]
    }
   ],
   "source": [
    "\n",
    "\n",
    "n=int(input(\"Enter the number\"))\n",
    "if(n>0):\n",
    "    print(\"value of number is positive\",n)\n",
    "elif(n<0):\n",
    "    print(\"value of number  is nagative\",n)\n",
    "else:print(\"value is 0\")\n"
   ]
  },
  {
   "attachments": {},
   "cell_type": "markdown",
   "metadata": {},
   "source": [
    "#10. program to vfind even and odd numbers"
   ]
  },
  {
   "cell_type": "code",
   "execution_count": 38,
   "metadata": {},
   "outputs": [
    {
     "name": "stdout",
     "output_type": "stream",
     "text": [
      "given number is odd 3\n"
     ]
    }
   ],
   "source": [
    "n=int(input(\"Enter the number\"))\n",
    "if(n%2==0):\n",
    "    print(\"given number is even\",n)\n",
    "else:\n",
    "    print(\"given number is odd\",n)"
   ]
  },
  {
   "attachments": {},
   "cell_type": "markdown",
   "metadata": {},
   "source": [
    "10.program to check if number is  odd or even"
   ]
  },
  {
   "cell_type": "code",
   "execution_count": 39,
   "metadata": {},
   "outputs": [
    {
     "name": "stdout",
     "output_type": "stream",
     "text": [
      "8 is an even number\n"
     ]
    }
   ],
   "source": [
    "num=(int(input(\"enter the number:\")))\n",
    "\n",
    "if num % 2==0:\n",
    "        print(num,\"is an even number\")\n",
    "else:\n",
    "        print(num,\"is an odd number\")\n"
   ]
  },
  {
   "attachments": {},
   "cell_type": "markdown",
   "metadata": {},
   "source": [
    "12. program to findlargest number\n"
   ]
  },
  {
   "cell_type": "code",
   "execution_count": 40,
   "metadata": {},
   "outputs": [
    {
     "name": "stdout",
     "output_type": "stream",
     "text": [
      "the largestb number is  27\n"
     ]
    }
   ],
   "source": [
    "\n",
    "num1,num2,num3=10,17,27\n",
    "if(num1>=num2)and (num1>=num3):\n",
    "    largest=num1\n",
    "elif(num2>=num1) and (num2>=num3):\n",
    "    largerst= num2\n",
    "else:\n",
    "    largest=num3\n",
    "print(\"the largestb number is \",largest)"
   ]
  },
  {
   "attachments": {},
   "cell_type": "markdown",
   "metadata": {},
   "source": [
    "14.python program to print all prime numbers between1 to 100\n"
   ]
  },
  {
   "cell_type": "code",
   "execution_count": 41,
   "metadata": {},
   "outputs": [
    {
     "name": "stdout",
     "output_type": "stream",
     "text": [
      "number divisible i: 1\n",
      "number divisible i: 2\n",
      "enter number is prime number\n"
     ]
    }
   ],
   "source": [
    "\n",
    "def prime_number(n):\n",
    "    \n",
    "    count=0\n",
    "    for i in range(1, n+1):\n",
    "        \n",
    "        if n%i== 0:\n",
    "            count=count+1\n",
    "            print(\"number divisible i:\",count)\n",
    "    if ( count==2):\n",
    "        print(\"enter number is prime number\")            \n",
    "    else:\n",
    "        print(\"enter number is not prime number\")\n",
    "prime_number(5)\n"
   ]
  },
  {
   "attachments": {},
   "cell_type": "markdown",
   "metadata": {},
   "source": [
    "13.python  program to check prime number"
   ]
  },
  {
   "cell_type": "code",
   "execution_count": 42,
   "metadata": {},
   "outputs": [
    {
     "name": "stdout",
     "output_type": "stream",
     "text": [
      "[2, 3, 5, 7, 11, 13, 17, 19, 23, 29, 31, 37, 41, 43, 47, 53, 59, 61, 67, 71, 73, 79, 83, 89, 97]\n"
     ]
    }
   ],
   "source": [
    "\n",
    "def prime_numbers(n):\n",
    "    primes = []\n",
    "    for i in range(2, n + 1):\n",
    "        for j in range(2, int(i ** 0.5) + 1):\n",
    "            if i%j== 0:\n",
    "                break\n",
    "        else:\n",
    "            primes.append(i)\n",
    "    return primes\n",
    "\n",
    "prime_list = prime_numbers(100)\n",
    "print(prime_list)"
   ]
  },
  {
   "attachments": {},
   "cell_type": "markdown",
   "metadata": {},
   "source": [
    "15. python program to find  factorial number"
   ]
  },
  {
   "cell_type": "code",
   "execution_count": 43,
   "metadata": {},
   "outputs": [
    {
     "name": "stdout",
     "output_type": "stream",
     "text": [
      "the factorial of 19 is 1\n",
      "the factorial of 19 is 2\n",
      "the factorial of 19 is 6\n",
      "the factorial of 19 is 24\n",
      "the factorial of 19 is 120\n",
      "the factorial of 19 is 720\n",
      "the factorial of 19 is 5040\n",
      "the factorial of 19 is 40320\n",
      "the factorial of 19 is 362880\n",
      "the factorial of 19 is 3628800\n",
      "the factorial of 19 is 39916800\n",
      "the factorial of 19 is 479001600\n",
      "the factorial of 19 is 6227020800\n",
      "the factorial of 19 is 87178291200\n",
      "the factorial of 19 is 1307674368000\n",
      "the factorial of 19 is 20922789888000\n",
      "the factorial of 19 is 355687428096000\n",
      "the factorial of 19 is 6402373705728000\n",
      "the factorial of 19 is 121645100408832000\n"
     ]
    }
   ],
   "source": [
    "\n",
    "num=19\n",
    "factorial=1\n",
    "for i in range(1,num+1):\n",
    "    factorial = factorial*i\n",
    "    print(\"the factorial of\",num,\"is\",factorial)"
   ]
  },
  {
   "attachments": {},
   "cell_type": "markdown",
   "metadata": {},
   "source": [
    "16.python program to print the fibonacci sequence"
   ]
  },
  {
   "cell_type": "code",
   "execution_count": 47,
   "metadata": {},
   "outputs": [
    {
     "name": "stdout",
     "output_type": "stream",
     "text": [
      "1\n"
     ]
    }
   ],
   "source": [
    "\n",
    "def fibonacci(n):\n",
    "        if(n==1)or(n==2):\n",
    "            return 1\n",
    "        else:\n",
    "            return fibonacci(n-1)+ fibonacci(n-2)\n",
    "print(fibonacci(1))"
   ]
  },
  {
   "attachments": {},
   "cell_type": "markdown",
   "metadata": {},
   "source": [
    "17.python program to find numbers divisible by another number\n"
   ]
  },
  {
   "cell_type": "code",
   "execution_count": 48,
   "metadata": {},
   "outputs": [
    {
     "name": "stdout",
     "output_type": "stream",
     "text": [
      "not divisible 1 2\n"
     ]
    }
   ],
   "source": [
    "a=int(input(\"enter the a value\"))\n",
    "b=int(input(\"enter the b value\"))\n",
    "if (a%b==0):\n",
    "    print(\" number is divisible by :\",a,b)\n",
    "else:\n",
    "    print(\"not divisible\",a,b)"
   ]
  },
  {
   "attachments": {},
   "cell_type": "markdown",
   "metadata": {},
   "source": [
    "18.python program to convert Decimal to bianery,Octal and hexa decimal"
   ]
  },
  {
   "cell_type": "code",
   "execution_count": 49,
   "metadata": {},
   "outputs": [
    {
     "name": "stdout",
     "output_type": "stream",
     "text": [
      "0x5\n",
      "0o5\n",
      "0b101\n"
     ]
    }
   ],
   "source": [
    "\n",
    "n=int(input(\"enter the  value\"))\n",
    "print(hex(n))\n",
    "print(oct(n))\n",
    "print(bin(n))"
   ]
  },
  {
   "attachments": {},
   "cell_type": "markdown",
   "metadata": {},
   "source": [
    "19.python program find ASCII value of character"
   ]
  },
  {
   "cell_type": "code",
   "execution_count": 50,
   "metadata": {},
   "outputs": [
    {
     "name": "stdout",
     "output_type": "stream",
     "text": [
      " ASCII value  '5' is  53\n"
     ]
    }
   ],
   "source": [
    "c=(input(\"enter the value\"))\n",
    "print(\" ASCII value  '\"+ c +\"' is \",ord(c))\n",
    "\n"
   ]
  },
  {
   "attachments": {},
   "cell_type": "markdown",
   "metadata": {},
   "source": [
    "20.python program to find Factors of number"
   ]
  },
  {
   "cell_type": "code",
   "execution_count": 51,
   "metadata": {},
   "outputs": [
    {
     "name": "stdout",
     "output_type": "stream",
     "text": [
      "Factors of 5 are: [1, 5]\n"
     ]
    }
   ],
   "source": [
    "\n",
    "number = int(input(\"Enter a number to find its factors: \"))\n",
    "factors = []\n",
    "for i in range(1, number+1):\n",
    "    if number % i == 0:\n",
    "        factors.append(i)\n",
    "print(\"Factors of\", number, \"are:\", factors)"
   ]
  },
  {
   "attachments": {},
   "cell_type": "markdown",
   "metadata": {},
   "source": [
    "21.python program to make a simple calculater\n"
   ]
  },
  {
   "cell_type": "code",
   "execution_count": 52,
   "metadata": {},
   "outputs": [
    {
     "name": "stdout",
     "output_type": "stream",
     "text": [
      "5\n",
      "6\n",
      "addition of number 11\n",
      "subtraction of number -1\n",
      "multiplication of number 30\n",
      "Division of  number 0.8333333333333334\n",
      "floar division of number 0\n",
      "moudul of  number 5\n",
      "squarerroot of  number 15625\n",
      "cap of  number 3\n"
     ]
    }
   ],
   "source": [
    "a=(int(input(\"enter the number\")))\n",
    "print(a)\n",
    "b=(int(input(\"enter the number\")))\n",
    "print(b)\n",
    "print(\"addition of number\",a+b)\n",
    "print(\"subtraction of number\",a-b)\n",
    "print(\"multiplication of number\",a*b)\n",
    "print(\"Division of  number\",a/b)\n",
    "print(\"floar division of number\",a//b)\n",
    "print(\"moudul of  number\",a%b)\n",
    "print(\"squarerroot of  number\",a**b)\n",
    "print(\"cap of  number\",a^b)"
   ]
  },
  {
   "attachments": {},
   "cell_type": "markdown",
   "metadata": {},
   "source": [
    "22.python program to add two metrices"
   ]
  },
  {
   "cell_type": "code",
   "execution_count": 53,
   "metadata": {},
   "outputs": [
    {
     "name": "stdout",
     "output_type": "stream",
     "text": [
      "[10, 10, 10]\n",
      "[10, 10, 10]\n",
      "[10, 10, 10]\n"
     ]
    }
   ],
   "source": [
    "\n",
    "# Program to add two matrices using nested loop\n",
    "\n",
    "X = [[1,2,3],\n",
    "    [4 ,5,6],\n",
    "    [7 ,8,9]]\n",
    "Y = [[9,8,7],\n",
    "    [6,5,4],\n",
    "    [3,2,1]]\n",
    "\n",
    "\n",
    "result = [[0,0,0],\n",
    "        [0,0,0],\n",
    "        [0,0,0]]\n",
    "\n",
    "# iterate through rows\n",
    "for i in range(len(X)):  \n",
    "# iterate through columns\n",
    "    for j in range(len(X[0])):\n",
    "        result[i][j] = X[i][j] + Y[i][j]\n",
    "\n",
    "for r in result:\n",
    "    print(r)"
   ]
  },
  {
   "attachments": {},
   "cell_type": "markdown",
   "metadata": {},
   "source": [
    "23. python program totranspose metrix\n"
   ]
  },
  {
   "attachments": {},
   "cell_type": "markdown",
   "metadata": {},
   "source": [
    "24. Python Program to Multiply Two Matrices \n"
   ]
  },
  {
   "attachments": {},
   "cell_type": "markdown",
   "metadata": {},
   "source": [
    "25. Python Program to Check Whether a String is Palindrome or Not\n"
   ]
  },
  {
   "attachments": {},
   "cell_type": "markdown",
   "metadata": {},
   "source": [
    "26. Python Program to Create Pyramid Patterns of Numbers Till 10 \n"
   ]
  },
  {
   "attachments": {},
   "cell_type": "markdown",
   "metadata": {},
   "source": [
    "27. Python Program to Merge Two Dictionarie"
   ]
  },
  {
   "cell_type": "code",
   "execution_count": 54,
   "metadata": {},
   "outputs": [
    {
     "name": "stdout",
     "output_type": "stream",
     "text": [
      "({1: 'hello', 2: 'python'}, {'name': 'shankar', 4: 'print'})\n"
     ]
    }
   ],
   "source": [
    "d1={1:\"hello\",2:\"python\"}\n",
    "d2={\"name\":\"shankar\",4:\"print\"}\n",
    "d3=d1,d2\n",
    "# d3=(d1.update(d2))\n",
    "print(d3)"
   ]
  },
  {
   "attachments": {},
   "cell_type": "markdown",
   "metadata": {},
   "source": [
    "28. Python Program to Access Index of a List Using for Loop"
   ]
  },
  {
   "cell_type": "code",
   "execution_count": 55,
   "metadata": {},
   "outputs": [
    {
     "name": "stdout",
     "output_type": "stream",
     "text": [
      "o\n"
     ]
    }
   ],
   "source": [
    "a=[\"hello world\"]\n",
    "for list in a:\n",
    "    print(list[4])"
   ]
  },
  {
   "attachments": {},
   "cell_type": "markdown",
   "metadata": {},
   "source": [
    "29. Python Program to Concatenate Two Lists "
   ]
  },
  {
   "cell_type": "code",
   "execution_count": 56,
   "metadata": {},
   "outputs": [
    {
     "name": "stdout",
     "output_type": "stream",
     "text": [
      "[1, 2, 3, 4, 5, 6, 7, 8, 9, 10]\n"
     ]
    }
   ],
   "source": [
    "l1=[1,2,3,4,5]\n",
    "l2=[6,7,8,9,10]\n",
    "l3=l1+l2\n",
    "print(l3)"
   ]
  },
  {
   "attachments": {},
   "cell_type": "markdown",
   "metadata": {},
   "source": [
    "30. Python Program to Get the Last Element of the List"
   ]
  },
  {
   "cell_type": "code",
   "execution_count": 57,
   "metadata": {},
   "outputs": [
    {
     "name": "stdout",
     "output_type": "stream",
     "text": [
      "10\n"
     ]
    }
   ],
   "source": [
    "l1=[1,2,3,4,5,6,7,8,9,10]\n",
    "l2=l1.pop()#using pop method\n",
    "print(l2)"
   ]
  },
  {
   "attachments": {},
   "cell_type": "markdown",
   "metadata": {},
   "source": [
    "31. Python Program to Randomly Select an Element From the List"
   ]
  },
  {
   "cell_type": "code",
   "execution_count": 59,
   "metadata": {},
   "outputs": [
    {
     "name": "stdout",
     "output_type": "stream",
     "text": [
      "8\n"
     ]
    }
   ],
   "source": [
    "l1=[1,2,3,4,5,6,7,8,9,10]\n",
    "import random\n",
    "l2=random.choice(l1)\n",
    "print(l2)\n"
   ]
  },
  {
   "attachments": {},
   "cell_type": "markdown",
   "metadata": {},
   "source": [
    "32. Python program to print odd numbers in a List "
   ]
  },
  {
   "cell_type": "code",
   "execution_count": 60,
   "metadata": {},
   "outputs": [
    {
     "name": "stdout",
     "output_type": "stream",
     "text": [
      "[1, 3, 5, 7, 9, 11, 13]\n"
     ]
    }
   ],
   "source": [
    "l1=[1,2,3,4,5,6,7,8,9,10,11,12,13,14]\n",
    "print(l1[0:14:2])#using index number"
   ]
  },
  {
   "attachments": {},
   "cell_type": "markdown",
   "metadata": {},
   "source": [
    "33. Python program to print all even numbers in a range "
   ]
  },
  {
   "cell_type": "code",
   "execution_count": 61,
   "metadata": {},
   "outputs": [
    {
     "name": "stdout",
     "output_type": "stream",
     "text": [
      "all number 0\n",
      "all number 2\n",
      "all number 4\n",
      "all number 6\n",
      "all number 8\n",
      "all number 10\n"
     ]
    }
   ],
   "source": [
    "l1=[0,1,2,3,4,5,6,7,8,9,10]\n",
    "def even(l1):\n",
    "    # for n in  range (1,10):\n",
    "            for n in  (l1[::2]):\n",
    "                print(\"all number\",n)\n",
    "\n",
    "even(l1)"
   ]
  },
  {
   "attachments": {},
   "cell_type": "markdown",
   "metadata": {},
   "source": [
    "34. Python Program to find sum of array "
   ]
  },
  {
   "attachments": {},
   "cell_type": "markdown",
   "metadata": {},
   "source": [
    "\n",
    "35. Python Program to Check If a String Is a Number (Float)"
   ]
  },
  {
   "cell_type": "code",
   "execution_count": 62,
   "metadata": {},
   "outputs": [
    {
     "name": "stdout",
     "output_type": "stream",
     "text": [
      "the original string is :\n",
      "4536\n"
     ]
    }
   ],
   "source": [
    "str=\"4536\"\n",
    "print(\"the original string is :\")\n",
    "res=str.replace('.',str)\n",
    "print(res)\n",
    "\n",
    "\n"
   ]
  },
  {
   "attachments": {},
   "cell_type": "markdown",
   "metadata": {},
   "source": [
    "36.python program to convert to list into dictionary"
   ]
  },
  {
   "cell_type": "code",
   "execution_count": 63,
   "metadata": {},
   "outputs": [
    {
     "name": "stdout",
     "output_type": "stream",
     "text": [
      "original list1 : ['ravi', 'ramesh']\n",
      "original list2 : [1, 2]\n",
      "resultant dictonary is: {'ravi': 1, 'ramesh': 2}\n"
     ]
    }
   ],
   "source": [
    "list1=[\"ravi\",\"ramesh\"]\n",
    "list2=[1,2,]\n",
    "print(\"original list1 :\",list1)\n",
    "print(\"original list2 :\",list2)\n",
    "res={list1[i]:list2[i] for i in range(len(list1))}\n",
    "print(\"resultant dictonary is:\",(res))"
   ]
  },
  {
   "attachments": {},
   "cell_type": "markdown",
   "metadata": {},
   "source": [
    "37.python program to reverse a number"
   ]
  },
  {
   "cell_type": "code",
   "execution_count": 64,
   "metadata": {},
   "outputs": [
    {
     "name": "stdout",
     "output_type": "stream",
     "text": [
      "4\n"
     ]
    }
   ],
   "source": [
    "rem=0 ;sum=0 \n",
    "def rev_fun(num):\n",
    "    sum=0\n",
    "    rem=0\n",
    "\n",
    "    if num>0:\n",
    "        rem=num%10\n",
    "        sum=sum*10+rem\n",
    "        num=num/10\n",
    "    return sum\n",
    "ans=rev_fun(1234)\n",
    "print(ans)\n",
    "\n",
    "    "
   ]
  },
  {
   "attachments": {},
   "cell_type": "markdown",
   "metadata": {},
   "source": [
    "38.python program to compute the power of a number"
   ]
  },
  {
   "cell_type": "code",
   "execution_count": 65,
   "metadata": {},
   "outputs": [
    {
     "name": "stdout",
     "output_type": "stream",
     "text": [
      "1.1920928955078124e+16\n"
     ]
    }
   ],
   "source": [
    "import math \n",
    "num=int(input(\"enter any numbner\"))\n",
    "p=int(input(\"enter value power\"))\n",
    "ans=math.pow(num,p)\n",
    "print(ans)"
   ]
  },
  {
   "attachments": {},
   "cell_type": "markdown",
   "metadata": {},
   "source": [
    "39.python program to count the number of digits present in a number"
   ]
  },
  {
   "cell_type": "code",
   "execution_count": 66,
   "metadata": {},
   "outputs": [
    {
     "name": "stdout",
     "output_type": "stream",
     "text": [
      "the number of digits in the number are 1\n"
     ]
    }
   ],
   "source": [
    "n=int(input(\"enter the number\"))\n",
    "count=0\n",
    "while(n>0):\n",
    "    count=count+1\n",
    "    n=n//10\n",
    "print(\"the number of digits in the number are\",count)"
   ]
  },
  {
   "attachments": {},
   "cell_type": "markdown",
   "metadata": {},
   "source": [
    "40.python program to remove a duplicate element from a list"
   ]
  },
  {
   "cell_type": "code",
   "execution_count": 98,
   "metadata": {},
   "outputs": [
    {
     "name": "stdout",
     "output_type": "stream",
     "text": [
      "Original List: [1, 2, 3, 3, 4, 5, 2, 6, 4]\n",
      "List without duplicates: [1, 2, 3, 4, 5, 6]\n"
     ]
    }
   ],
   "source": [
    "\n",
    "# Certainly! Here's an example Python program that removes duplicate elements from a list:\n",
    "\n",
    "# python\n",
    "# Copy code\n",
    "def remove_duplicates(lst):\n",
    "    # Create an empty list to store unique elements\n",
    "    unique_lst = []\n",
    "\n",
    "    # Iterate over the original list\n",
    "    for element in lst:\n",
    "        # Check if the element is not already in the unique list\n",
    "        if element not in unique_lst:\n",
    "            unique_lst.append(element)\n",
    "\n",
    "    return unique_lst\n",
    "\n",
    "# Example usage\n",
    "my_list = [1, 2, 3, 3, 4, 5, 2, 6, 4]\n",
    "print(\"Original List:\", my_list)\n",
    "\n",
    "# Remove duplicates from the list\n",
    "result = remove_duplicates(my_list)\n",
    "print(\"List without duplicates:\", result)"
   ]
  },
  {
   "attachments": {},
   "cell_type": "markdown",
   "metadata": {},
   "source": [
    "41.python program to display calender"
   ]
  },
  {
   "cell_type": "code",
   "execution_count": 85,
   "metadata": {},
   "outputs": [
    {
     "name": "stdout",
     "output_type": "stream",
     "text": [
      "   February 2023\n",
      "Mo Tu We Th Fr Sa Su\n",
      "       1  2  3  4  5\n",
      " 6  7  8  9 10 11 12\n",
      "13 14 15 16 17 18 19\n",
      "20 21 22 23 24 25 26\n",
      "27 28\n",
      "\n"
     ]
    }
   ],
   "source": [
    "import calendar\n",
    "year=int(input(\"enter year\"))\n",
    "month=int(input(\"enter month\"))\n",
    "print(calendar.month(year,month))"
   ]
  },
  {
   "attachments": {},
   "cell_type": "markdown",
   "metadata": {},
   "source": [
    "42.python prohtam to find sum of arry"
   ]
  },
  {
   "cell_type": "code",
   "execution_count": 86,
   "metadata": {},
   "outputs": [
    {
     "name": "stdout",
     "output_type": "stream",
     "text": [
      "sum of the array 135\n"
     ]
    }
   ],
   "source": [
    "def sum(arr):\n",
    "    sum=0\n",
    "    for i in arr:\n",
    "        sum=sum+i\n",
    "    return (sum)\n",
    "arr=[45,65,25]\n",
    "n=len(arr)\n",
    "ans=sum(arr)\n",
    "print(\"sum of the array\",ans)\n"
   ]
  },
  {
   "attachments": {},
   "cell_type": "markdown",
   "metadata": {},
   "source": [
    "43.python|check for URL in a string"
   ]
  },
  {
   "attachments": {},
   "cell_type": "markdown",
   "metadata": {},
   "source": [
    "44.python-sort dictionary key and values list"
   ]
  },
  {
   "cell_type": "code",
   "execution_count": 87,
   "metadata": {},
   "outputs": [
    {
     "name": "stdout",
     "output_type": "stream",
     "text": [
      "the original dictonary is: {'studay': [1, 2, 3], 'today': [5, 6, 7], 'night': [9, 8, 5]}\n",
      "the sorted dictonaries : {'night': [5, 8, 9]}\n",
      "the sorted dictonaries : {'night': [5, 8, 9], 'studay': [1, 2, 3]}\n",
      "the sorted dictonaries : {'night': [5, 8, 9], 'studay': [1, 2, 3], 'today': [5, 6, 7]}\n"
     ]
    }
   ],
   "source": [
    "dic={\"studay\":[1,2,3],\n",
    "    \"today\":[5,6,7],\n",
    "    \"night\":[9,8,5]}\n",
    "    \n",
    "print(\"the original dictonary is:\",dic)\n",
    "sort_dict={}\n",
    "for key in sorted(dic):\n",
    "    sort_dict[key]=sorted(dic[key])\n",
    "    print(\"the sorted dictonaries :\",sort_dict)"
   ]
  },
  {
   "cell_type": "markdown",
   "metadata": {},
   "source": []
  }
 ],
 "metadata": {
  "kernelspec": {
   "display_name": "Python 3",
   "language": "python",
   "name": "python3"
  },
  "language_info": {
   "codemirror_mode": {
    "name": "ipython",
    "version": 3
   },
   "file_extension": ".py",
   "mimetype": "text/x-python",
   "name": "python",
   "nbconvert_exporter": "python",
   "pygments_lexer": "ipython3",
   "version": "3.11.3"
  },
  "orig_nbformat": 4
 },
 "nbformat": 4,
 "nbformat_minor": 2
}
