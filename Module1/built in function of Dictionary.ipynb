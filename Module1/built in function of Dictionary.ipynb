{
 "cells": [
  {
   "attachments": {},
   "cell_type": "markdown",
   "metadata": {},
   "source": [
    "Built in function of Dictionary"
   ]
  },
  {
   "attachments": {},
   "cell_type": "markdown",
   "metadata": {},
   "source": [
    "(len) function"
   ]
  },
  {
   "cell_type": "code",
   "execution_count": 4,
   "metadata": {},
   "outputs": [
    {
     "name": "stdout",
     "output_type": "stream",
     "text": [
      "{'a': 12, 'b': 2}\n"
     ]
    }
   ],
   "source": [
    "d1={\"a\":12,\"b\":2}\n",
    "len(d1) # Find the length of d1\n",
    "print(d1)\n"
   ]
  },
  {
   "attachments": {},
   "cell_type": "markdown",
   "metadata": {},
   "source": [
    "(key) Function"
   ]
  },
  {
   "cell_type": "code",
   "execution_count": 10,
   "metadata": {},
   "outputs": [
    {
     "name": "stdout",
     "output_type": "stream",
     "text": [
      "dict_keys(['a', 'b', 'Name'])\n"
     ]
    }
   ],
   "source": [
    "d1={\"a\":12,\"b\":2, \"Name\":{1:\"Shankar\"}}\n",
    "print(d1.keys()) # Pickup the   only keys"
   ]
  },
  {
   "attachments": {},
   "cell_type": "markdown",
   "metadata": {},
   "source": [
    "(Values) Function"
   ]
  },
  {
   "cell_type": "code",
   "execution_count": 11,
   "metadata": {},
   "outputs": [
    {
     "name": "stdout",
     "output_type": "stream",
     "text": [
      "dict_values([12, 2, {1: 'Shankar'}])\n"
     ]
    }
   ],
   "source": [
    "d1={\"a\":12,\"b\":2, \"Name\":{1:\"Shankar\"}}\n",
    "print(d1.values()) # Pickup the only Values \n"
   ]
  },
  {
   "attachments": {},
   "cell_type": "markdown",
   "metadata": {},
   "source": [
    "(items) Function"
   ]
  },
  {
   "cell_type": "code",
   "execution_count": 15,
   "metadata": {},
   "outputs": [
    {
     "name": "stdout",
     "output_type": "stream",
     "text": [
      "dict_items([('a', 12), ('b', 2), ('Name', {1: 'Shankar'})])\n"
     ]
    }
   ],
   "source": [
    "d1={\"a\":12,\"b\":2, \"Name\":{1:\"Shankar\"}}\n",
    "print(d1.items()) # key-value pair  answer return in the Dictionary as touple\n"
   ]
  },
  {
   "cell_type": "code",
   "execution_count": 24,
   "metadata": {},
   "outputs": [
    {
     "name": "stdout",
     "output_type": "stream",
     "text": [
      "{1: 'Shankar'}\n"
     ]
    }
   ],
   "source": [
    "d1={\"a\":12,\"b\":2, \"Name\":{1:\"Shankar\"}}\n",
    "print(d1.get(\"Name\",\"a\"))"
   ]
  }
 ],
 "metadata": {
  "kernelspec": {
   "display_name": "Python 3",
   "language": "python",
   "name": "python3"
  },
  "language_info": {
   "codemirror_mode": {
    "name": "ipython",
    "version": 3
   },
   "file_extension": ".py",
   "mimetype": "text/x-python",
   "name": "python",
   "nbconvert_exporter": "python",
   "pygments_lexer": "ipython3",
   "version": "3.11.3"
  },
  "orig_nbformat": 4
 },
 "nbformat": 4,
 "nbformat_minor": 2
}
