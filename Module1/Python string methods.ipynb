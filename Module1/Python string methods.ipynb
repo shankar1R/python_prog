{
 "cells": [
  {
   "attachments": {},
   "cell_type": "markdown",
   "metadata": {},
   "source": [
    "Python String methods"
   ]
  },
  {
   "cell_type": "code",
   "execution_count": 7,
   "metadata": {},
   "outputs": [
    {
     "name": "stdout",
     "output_type": "stream",
     "text": [
      "Shankar\n",
      "SHANKAR\n"
     ]
    }
   ],
   "source": [
    "s1=(\"shankar\")\n",
    "print(s1.capitalize()) # first letter only calpitalize\n",
    "print(s1.upper()) # all letters should capital\n",
    "\n"
   ]
  },
  {
   "cell_type": "code",
   "execution_count": 9,
   "metadata": {},
   "outputs": [
    {
     "name": "stdout",
     "output_type": "stream",
     "text": [
      "shankar\n"
     ]
    }
   ],
   "source": [
    "s1=(\"SHANKAR\")\n",
    "print(s1.lower()) # all leter should lower letter\n"
   ]
  },
  {
   "cell_type": "code",
   "execution_count": 14,
   "metadata": {},
   "outputs": [
    {
     "name": "stdout",
     "output_type": "stream",
     "text": [
      "**Shankar**\n"
     ]
    }
   ],
   "source": [
    "s1=(\"Shankar\")\n",
    "print(s1.center(11,'*')) # head line writen using str *"
   ]
  },
  {
   "cell_type": "code",
   "execution_count": 18,
   "metadata": {},
   "outputs": [
    {
     "name": "stdout",
     "output_type": "stream",
     "text": [
      "5\n"
     ]
    }
   ],
   "source": [
    "s3=(\" WELLCOME HELLO WORLD\")\n",
    "print(s3.count(\"L\")) # count the Selecting  letters "
   ]
  },
  {
   "cell_type": "code",
   "execution_count": 23,
   "metadata": {},
   "outputs": [
    {
     "name": "stdout",
     "output_type": "stream",
     "text": [
      "10\n"
     ]
    }
   ],
   "source": [
    "s3=(\" WELLCOME HELLO WORLD\")\n",
    "print(s3.index('H')) # Find the index number of letter"
   ]
  },
  {
   "cell_type": "code",
   "execution_count": 48,
   "metadata": {},
   "outputs": [
    {
     "name": "stdout",
     "output_type": "stream",
     "text": [
      "-1\n"
     ]
    }
   ],
   "source": [
    "s3=(\"HELLOWORLD\")\n",
    "print(s3.find('LR'))"
   ]
  },
  {
   "cell_type": "code",
   "execution_count": 43,
   "metadata": {},
   "outputs": [
    {
     "name": "stdout",
     "output_type": "stream",
     "text": [
      "14-06-2023\n"
     ]
    }
   ],
   "source": [
    "str=(\"14/06/2023\")\n",
    "print(str.replace('/','-')) # replace the sign ,Numbers ,and letters"
   ]
  },
  {
   "cell_type": "code",
   "execution_count": 49,
   "metadata": {},
   "outputs": [
    {
     "name": "stdout",
     "output_type": "stream",
     "text": [
      "['14', '06', '2023']\n"
     ]
    }
   ],
   "source": [
    "str=(\"14/06/2023\")\n",
    "print(str.split('/')) # split  the numbers "
   ]
  },
  {
   "cell_type": "code",
   "execution_count": 70,
   "metadata": {},
   "outputs": [
    {
     "name": "stdout",
     "output_type": "stream",
     "text": [
      "True\n",
      "False\n"
     ]
    }
   ],
   "source": [
    "str1=('12345')\n",
    "print(str1.isnumeric()) #  print only  number \n",
    "str1=('avdf')\n",
    "print(str1.isnumeric())"
   ]
  },
  {
   "cell_type": "code",
   "execution_count": 69,
   "metadata": {},
   "outputs": [
    {
     "name": "stdout",
     "output_type": "stream",
     "text": [
      "True\n",
      "False\n"
     ]
    }
   ],
   "source": [
    "str1=('1a')\n",
    "print(str1.isalnum()) # print only alphabet and number\n",
    "str1=('1./')\n",
    "print(str1.isalnum())"
   ]
  },
  {
   "cell_type": "code",
   "execution_count": 68,
   "metadata": {},
   "outputs": [
    {
     "name": "stdout",
     "output_type": "stream",
     "text": [
      "True\n",
      "False\n"
     ]
    }
   ],
   "source": [
    "str1=('SHANKAR')\n",
    "print(str1.isupper())\n",
    "\n",
    "str1=('SHANKAr')\n",
    "print(str1.isupper())"
   ]
  },
  {
   "cell_type": "code",
   "execution_count": 72,
   "metadata": {},
   "outputs": [
    {
     "name": "stdout",
     "output_type": "stream",
     "text": [
      "False\n",
      "True\n"
     ]
    }
   ],
   "source": [
    "str1=('Shankar')\n",
    "print(str1.islower())\n",
    "\n",
    "str1=('shankar')\n",
    "print(str1.islower())"
   ]
  }
 ],
 "metadata": {
  "kernelspec": {
   "display_name": "Python 3",
   "language": "python",
   "name": "python3"
  },
  "language_info": {
   "codemirror_mode": {
    "name": "ipython",
    "version": 3
   },
   "file_extension": ".py",
   "mimetype": "text/x-python",
   "name": "python",
   "nbconvert_exporter": "python",
   "pygments_lexer": "ipython3",
   "version": "3.11.3"
  },
  "orig_nbformat": 4
 },
 "nbformat": 4,
 "nbformat_minor": 2
}
