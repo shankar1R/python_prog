{
 "cells": [
  {
   "attachments": {},
   "cell_type": "markdown",
   "metadata": {},
   "source": [
    "Built in functions of Set"
   ]
  },
  {
   "attachments": {},
   "cell_type": "markdown",
   "metadata": {},
   "source": [
    "(add) Function"
   ]
  },
  {
   "cell_type": "code",
   "execution_count": 32,
   "metadata": {},
   "outputs": [
    {
     "name": "stdout",
     "output_type": "stream",
     "text": [
      "{2, '1'}\n",
      "<class 'set'>\n"
     ]
    }
   ],
   "source": [
    "s1=set(\"1\") # set always use in string\n",
    "s1.add(2) # in set function add the only one element using (add) function\n",
    "print(s1)\n",
    "print(type(s1)) # check the type of function\n"
   ]
  },
  {
   "attachments": {},
   "cell_type": "markdown",
   "metadata": {},
   "source": [
    "(clear) Function"
   ]
  },
  {
   "cell_type": "code",
   "execution_count": 41,
   "metadata": {},
   "outputs": [
    {
     "name": "stdout",
     "output_type": "stream",
     "text": [
      "{'python', 'world', 'hello'}\n",
      "Set after the clear() method is calle set()\n"
     ]
    }
   ],
   "source": [
    "s2={'python','hello','world'}\n",
    "print(s2)\n",
    "s2.clear() # clear the hole s2\n",
    "print('Set after the clear() method is calle',s2)"
   ]
  },
  {
   "attachments": {},
   "cell_type": "markdown",
   "metadata": {},
   "source": [
    "(copy) Function"
   ]
  },
  {
   "cell_type": "code",
   "execution_count": 45,
   "metadata": {},
   "outputs": [
    {
     "name": "stdout",
     "output_type": "stream",
     "text": [
      "original set {'python', 'world', 'hello'}\n",
      "copy th set {'python', 'world', 'hello'}\n"
     ]
    }
   ],
   "source": [
    "s2={'python','hello','world'}\n",
    "s1=s2.copy() # copy the same element to s1 using (copy) function\n",
    "print(\"original set\",s2)\n",
    "print(\"copy th set\",s1)"
   ]
  },
  {
   "attachments": {},
   "cell_type": "markdown",
   "metadata": {},
   "source": [
    "(Difference) Function"
   ]
  },
  {
   "cell_type": "code",
   "execution_count": 48,
   "metadata": {},
   "outputs": [
    {
     "name": "stdout",
     "output_type": "stream",
     "text": [
      "{2, 4}\n"
     ]
    }
   ],
   "source": [
    "s1={1,2,3,4,5}\n",
    "s2={1,8,6,5,3}\n",
    "s3=s1.difference(s2) # difference between s1 and s2\n",
    "print(s3)"
   ]
  },
  {
   "attachments": {},
   "cell_type": "markdown",
   "metadata": {},
   "source": [
    "(difference_update) Function"
   ]
  },
  {
   "cell_type": "code",
   "execution_count": 56,
   "metadata": {},
   "outputs": [
    {
     "name": "stdout",
     "output_type": "stream",
     "text": [
      "{5}\n",
      "{1, 2, 3, 4, 7}\n"
     ]
    }
   ],
   "source": [
    "s1={1,2,3,4,5}\n",
    "s2={1,2,3,7,4}\n",
    "s1.difference_update(s2)\n",
    "print(s1)\n",
    "print(s2)"
   ]
  },
  {
   "attachments": {},
   "cell_type": "markdown",
   "metadata": {},
   "source": [
    "(len) Functioin"
   ]
  },
  {
   "cell_type": "code",
   "execution_count": 5,
   "metadata": {},
   "outputs": [
    {
     "name": "stdout",
     "output_type": "stream",
     "text": [
      "7\n"
     ]
    }
   ],
   "source": [
    "s1={1,2,3,9,4,5,6}\n",
    "s2=len(s1) # Find the length of the line using (len) Function\n",
    "print(s2)\n"
   ]
  },
  {
   "attachments": {},
   "cell_type": "markdown",
   "metadata": {},
   "source": [
    "(remove)  & (Discard) Function"
   ]
  },
  {
   "cell_type": "code",
   "execution_count": 24,
   "metadata": {},
   "outputs": [
    {
     "name": "stdout",
     "output_type": "stream",
     "text": [
      "{1, 3, 5}\n"
     ]
    }
   ],
   "source": [
    "s1={1,2,3,4,5}\n",
    "s1.remove(4) # Remove the element using (remove) function\n",
    "s1.discard(2) # same as remove Function\n",
    "print(s1)\n"
   ]
  },
  {
   "cell_type": "markdown",
   "metadata": {},
   "source": []
  },
  {
   "cell_type": "code",
   "execution_count": 26,
   "metadata": {},
   "outputs": [
    {
     "name": "stdout",
     "output_type": "stream",
     "text": [
      "{1, 2, 3, 4, 5, 6, 7, 8, 9, 10}\n"
     ]
    }
   ],
   "source": [
    "s1={1,2,3,4,5}\n",
    "s2={6,7,8,9,10}\n",
    "print(s1.union(s2))"
   ]
  },
  {
   "attachments": {},
   "cell_type": "markdown",
   "metadata": {},
   "source": [
    "(intersection) (&) Function"
   ]
  },
  {
   "cell_type": "code",
   "execution_count": 32,
   "metadata": {},
   "outputs": [
    {
     "name": "stdout",
     "output_type": "stream",
     "text": [
      "{1, 2, 3, 4}\n",
      "{1, 2, 3, 4}\n"
     ]
    }
   ],
   "source": [
    "s1={1,2,3,4,5}\n",
    "s2={1,2,3,7,4}\n",
    "print(s1.intersection(s2)) # print( the comman elment)\n",
    "s3=s1&s2 # same as (&) intersection\n",
    "print(s3)"
   ]
  },
  {
   "attachments": {},
   "cell_type": "markdown",
   "metadata": {},
   "source": [
    "(difference) (-) Function"
   ]
  },
  {
   "cell_type": "code",
   "execution_count": 37,
   "metadata": {},
   "outputs": [
    {
     "name": "stdout",
     "output_type": "stream",
     "text": [
      "{5}\n",
      "{6, 7}\n"
     ]
    }
   ],
   "source": [
    "s1={1,2,3,4,5}\n",
    "s2={1,2,3,7,6,4}\n",
    "print(s1.difference(s2)) #elements present in the set \n",
    "s3=s2-s1\n",
    "print(s3)"
   ]
  },
  {
   "attachments": {},
   "cell_type": "markdown",
   "metadata": {},
   "source": [
    "(symmetric_difference) Function"
   ]
  },
  {
   "cell_type": "code",
   "execution_count": 38,
   "metadata": {},
   "outputs": [
    {
     "name": "stdout",
     "output_type": "stream",
     "text": [
      "{5, 6, 7}\n"
     ]
    }
   ],
   "source": [
    "s1={1,2,3,4,5}\n",
    "s2={1,2,3,7,6,4}\n",
    "print(s1.symmetric_difference(s2)) # print the no comman element"
   ]
  },
  {
   "attachments": {},
   "cell_type": "markdown",
   "metadata": {},
   "source": [
    "(issubset) Function"
   ]
  },
  {
   "cell_type": "code",
   "execution_count": 50,
   "metadata": {},
   "outputs": [
    {
     "name": "stdout",
     "output_type": "stream",
     "text": [
      "True\n",
      "False\n"
     ]
    }
   ],
   "source": [
    "s1={1,2,3,4}\n",
    "s2={1,2,3,4,6,5}\n",
    "s3=s1.issubset(s2)#Return True if all items in set s1 are present in set s2\n",
    "s4=s2.issubset(s1)#Return True if all items in set s2 are present in set s1\n",
    "print(s3)\n",
    "print(s4)"
   ]
  },
  {
   "attachments": {},
   "cell_type": "markdown",
   "metadata": {},
   "source": [
    "(issuperset) Function"
   ]
  },
  {
   "cell_type": "code",
   "execution_count": 61,
   "metadata": {},
   "outputs": [
    {
     "name": "stdout",
     "output_type": "stream",
     "text": [
      "False\n",
      "True\n"
     ]
    }
   ],
   "source": [
    "s1={1,2,3,4,5}\n",
    "s2={1,2,3,4}\n",
    "s3=s2.issuperset(s1)\n",
    "s4=s1.issuperset(s2) # reverse of issubset\n",
    "print(s3)\n",
    "print(s4)"
   ]
  },
  {
   "attachments": {},
   "cell_type": "markdown",
   "metadata": {},
   "source": [
    "(isdisjoint) Function"
   ]
  },
  {
   "cell_type": "code",
   "execution_count": 67,
   "metadata": {},
   "outputs": [
    {
     "name": "stdout",
     "output_type": "stream",
     "text": [
      "True\n",
      "False\n"
     ]
    }
   ],
   "source": [
    "s1={1,2,3,4}\n",
    "s2={8,7,9}\n",
    "s3=s1.isdisjoint(s2)\n",
    "print(s3)\n",
    "\n",
    "s1={1,2,3,4}\n",
    "s2={1,2,3,4}\n",
    "s4=s1.isdisjoint(s2)\n",
    "print(s4)"
   ]
  }
 ],
 "metadata": {
  "kernelspec": {
   "display_name": "Python 3",
   "language": "python",
   "name": "python3"
  },
  "language_info": {
   "codemirror_mode": {
    "name": "ipython",
    "version": 3
   },
   "file_extension": ".py",
   "mimetype": "text/x-python",
   "name": "python",
   "nbconvert_exporter": "python",
   "pygments_lexer": "ipython3",
   "version": "3.11.3"
  },
  "orig_nbformat": 4
 },
 "nbformat": 4,
 "nbformat_minor": 2
}
