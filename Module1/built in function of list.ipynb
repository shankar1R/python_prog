{
 "cells": [
  {
   "cell_type": "code",
   "execution_count": 1,
   "metadata": {},
   "outputs": [
    {
     "name": "stdout",
     "output_type": "stream",
     "text": [
      "[]\n"
     ]
    }
   ],
   "source": [
    "#  Empty list creat\n",
    "list=[]\n",
    "print(list)"
   ]
  },
  {
   "cell_type": "code",
   "execution_count": 3,
   "metadata": {},
   "outputs": [
    {
     "name": "stdout",
     "output_type": "stream",
     "text": [
      "['hello', 'to', 'world']\n",
      "world\n"
     ]
    }
   ],
   "source": [
    "\n",
    "list1=[\"hello\",\"to\",\"world\"]\n",
    "print(list1) # print string in list\n",
    "print(list1[2]) # pickup the elemrnt/words using index number"
   ]
  },
  {
   "cell_type": "code",
   "execution_count": 5,
   "metadata": {},
   "outputs": [
    {
     "name": "stdout",
     "output_type": "stream",
     "text": [
      "[1, 2, 3, 4, 5]\n",
      "[1, 2, 3, 4]\n"
     ]
    }
   ],
   "source": [
    "list=[1,2,3,4,5]\n",
    "print(list) # before removing the element\n",
    "list.pop() # remove the last element using the pop fuction \n",
    "print(list) # after removing the element\n"
   ]
  },
  {
   "cell_type": "code",
   "execution_count": 9,
   "metadata": {},
   "outputs": [
    {
     "name": "stdout",
     "output_type": "stream",
     "text": [
      "4\n",
      "10\n"
     ]
    }
   ],
   "source": [
    "list1=[1,2,2,4,5,5,8,5,9,5]\n",
    "print(list1.count(5)) # count the repeated numbers using the count function\n",
    "print(len(list1)) # print length of the (list1)"
   ]
  },
  {
   "cell_type": "code",
   "execution_count": 16,
   "metadata": {},
   "outputs": [
    {
     "name": "stdout",
     "output_type": "stream",
     "text": [
      "[1, 2, 3, 4, 5, 6, 7, 8, 9, 10]\n",
      "[1, 2, 3, 4, 5]\n"
     ]
    }
   ],
   "source": [
    "l2=[1,2,3,4]\n",
    "for i in range (5,11):\n",
    "    l2.append(i) # adding the 5-10 numbers to l2 using append function in for loop\n",
    "print(l2)\n",
    "\n",
    "l2=[1,2,3,4]\n",
    "l2.append(5) # in this method append adds only one element\n",
    "print(l2)"
   ]
  },
  {
   "cell_type": "code",
   "execution_count": 21,
   "metadata": {},
   "outputs": [
    {
     "name": "stdout",
     "output_type": "stream",
     "text": [
      "[1, 2, 3, 4, 5, 6, 7]\n"
     ]
    },
    {
     "ename": "NameError",
     "evalue": "name 'l2' is not defined",
     "output_type": "error",
     "traceback": [
      "\u001b[1;31m---------------------------------------------------------------------------\u001b[0m",
      "\u001b[1;31mNameError\u001b[0m                                 Traceback (most recent call last)",
      "Cell \u001b[1;32mIn[21], line 4\u001b[0m\n\u001b[0;32m      2\u001b[0m \u001b[39mprint\u001b[39m(l2) \u001b[39m# befpre deleting  l2\u001b[39;00m\n\u001b[0;32m      3\u001b[0m \u001b[39mdel\u001b[39;00m(l2) \u001b[39m# delet the hole line of l2\u001b[39;00m\n\u001b[1;32m----> 4\u001b[0m \u001b[39mprint\u001b[39m(l2) \u001b[39m# after deleting the l2\u001b[39;00m\n",
      "\u001b[1;31mNameError\u001b[0m: name 'l2' is not defined"
     ]
    }
   ],
   "source": [
    "l2=[1,2,3,4,5,6,7]\n",
    "print(l2) # befpre deleting  l2\n",
    "del(l2) # delet the hole line of l2\n",
    "print(l2) # after deleting the l2"
   ]
  },
  {
   "cell_type": "code",
   "execution_count": 30,
   "metadata": {},
   "outputs": [
    {
     "name": "stdout",
     "output_type": "stream",
     "text": [
      "[0, 1, 2, 3, 4, 6, 7, 8, 9, 10]\n"
     ]
    }
   ],
   "source": [
    "l3=[0,1, 2, 3, 4, 5, 6, 7, 8, 9, 10]\n",
    "l3.remove(5) # remove only one element  using remove function \n",
    "print(l3)"
   ]
  },
  {
   "cell_type": "code",
   "execution_count": 44,
   "metadata": {},
   "outputs": [
    {
     "name": "stdout",
     "output_type": "stream",
     "text": [
      "[10, 9, 8, 7, 6, 5, 4, 3, 2, 1, 0]\n"
     ]
    }
   ],
   "source": [
    "l3=[0,1, 2, 3, 4, 5, 6, 7, 8, 9, 10]\n",
    "l3.reverse() # reverse the all number using reverse function\n",
    "print(l3)\n"
   ]
  },
  {
   "cell_type": "code",
   "execution_count": 38,
   "metadata": {},
   "outputs": [
    {
     "name": "stdout",
     "output_type": "stream",
     "text": [
      "[10, 9, 8, 7, 6, 5, 4, 3, 2, 1]\n"
     ]
    }
   ],
   "source": [
    "l3=[1,2,4,5,6,3,7,8,10,9]\n",
    "l3.sort() # arrenged the item in asending / cuurect formate\n",
    "print(l3)"
   ]
  },
  {
   "cell_type": "code",
   "execution_count": 48,
   "metadata": {},
   "outputs": [
    {
     "name": "stdout",
     "output_type": "stream",
     "text": [
      "[1, 2, 3, 4, 5, 6, 7, 8, 9, 10]\n",
      "5\n"
     ]
    }
   ],
   "source": [
    "l3=[1,2,4,5,6,3,7,8,10,9]\n",
    "l3.sort()\n",
    "print(l3)\n",
    "print(l3.index(6))  # find the index value using index function"
   ]
  },
  {
   "cell_type": "code",
   "execution_count": 62,
   "metadata": {},
   "outputs": [
    {
     "name": "stdout",
     "output_type": "stream",
     "text": [
      "False\n",
      "False\n"
     ]
    }
   ],
   "source": [
    "l1=[100,200,300,400]\n",
    "l2=[700,900]\n",
    "if i in l1 : #  in fuction using element is there or not\n",
    "    print(i)\n",
    "else :\n",
    "    print(\"False\")\n",
    "\n",
    "if 900 not in l2: #not in function used for the element is  not present in l2 \n",
    "    print(\"True\")\n",
    "else:\n",
    "    print(\"False\")"
   ]
  },
  {
   "cell_type": "code",
   "execution_count": null,
   "metadata": {},
   "outputs": [],
   "source": []
  }
 ],
 "metadata": {
  "kernelspec": {
   "display_name": "Python 3",
   "language": "python",
   "name": "python3"
  },
  "language_info": {
   "codemirror_mode": {
    "name": "ipython",
    "version": 3
   },
   "file_extension": ".py",
   "mimetype": "text/x-python",
   "name": "python",
   "nbconvert_exporter": "python",
   "pygments_lexer": "ipython3",
   "version": "3.11.3"
  },
  "orig_nbformat": 4
 },
 "nbformat": 4,
 "nbformat_minor": 2
}
