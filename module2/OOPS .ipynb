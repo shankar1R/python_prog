{
 "cells": [
  {
   "cell_type": "markdown",
   "metadata": {},
   "source": [
    "Object Oriented Programming System(OOPS)"
   ]
  },
  {
   "cell_type": "markdown",
   "metadata": {},
   "source": [
    "Features of (OOPS)"
   ]
  },
  {
   "cell_type": "markdown",
   "metadata": {},
   "source": [
    "1: calsses and objects (attribute and variables)"
   ]
  },
  {
   "cell_type": "code",
   "execution_count": 26,
   "metadata": {},
   "outputs": [
    {
     "name": "stdout",
     "output_type": "stream",
     "text": [
      "Raju\n",
      "21\n",
      "Raju 21\n",
      "Shankar\n",
      "21\n"
     ]
    }
   ],
   "source": [
    "# This is class\n",
    "class a: \n",
    "\n",
    "    name =\"Raju\"\n",
    "    age =\"21\"\n",
    "    Name =\"Shankar\"\n",
    "    Age =\"21\"\n",
    "    @classmethod # import the  using @rate classmethod \n",
    "    def talk(cls):\n",
    "        print(cls.name)\n",
    "        print(cls.age)\n",
    "\n",
    "    # self is a instunce method\n",
    "    def nons(self): \n",
    "        print(self.name,self.age)\n",
    "\n",
    "    @staticmethod #import the  using @rate staticmethod \n",
    "    def sta():\n",
    "        print(a.Name)\n",
    "        print(a.Age)\n",
    "\n",
    "a.talk()\n",
    "bu=a()\n",
    "bu.nons()\n",
    "c=a()\n",
    "c.sta() # call the function using object variabel\n"
   ]
  },
  {
   "cell_type": "markdown",
   "metadata": {},
   "source": [
    "2: Encapsulation (Data(variabel ) and  code(Method))"
   ]
  },
  {
   "cell_type": "code",
   "execution_count": 5,
   "metadata": {},
   "outputs": [
    {
     "name": "stdout",
     "output_type": "stream",
     "text": [
      "Name:  Jessa Salary: 8000\n",
      "Jessa is working on NLP\n"
     ]
    }
   ],
   "source": [
    "class Employee:\n",
    "    # constructor\n",
    "    def __init__(self, name, salary, project):\n",
    "        # data members\n",
    "        self.name = name\n",
    "        self.salary = salary\n",
    "        self.project = project\n",
    "\n",
    "    # method\n",
    "    # to display employee's details\n",
    "    def show(self):\n",
    "        # accessing public data member\n",
    "        print(\"Name: \", self.name, 'Salary:', self.salary)\n",
    "\n",
    "    # method\n",
    "    def work(self):\n",
    "        print(self.name, 'is working on', self.project)\n",
    "\n",
    "# creating object of a class\n",
    "emp = Employee('Jessa', 8000, 'NLP')\n",
    "\n",
    "# calling public method of the class\n",
    "emp.show()\n",
    "emp.work()\n"
   ]
  },
  {
   "cell_type": "code",
   "execution_count": 13,
   "metadata": {},
   "outputs": [
    {
     "name": "stdout",
     "output_type": "stream",
     "text": [
      "Name : Shankar Age : 21 Marks : 90\n"
     ]
    }
   ],
   "source": [
    "# Encapsulatiion method\n",
    "class student:\n",
    "\n",
    "    def __init__(self,name,age,marks):\n",
    "        # constructer / variabel\n",
    "        self.name=name\n",
    "        self.age=age \n",
    "        self.marks=marks\n",
    "\n",
    "    # method\n",
    "    def student_details(self):\n",
    "        print(\"Name :\",self.name,\"Age :\",self.age,\"Marks :\",self.marks )\n",
    "\n",
    "# creating object of a class\n",
    "student_obj= student(\"Shankar\",21,90)\n",
    "\n",
    "\n",
    "# calling public method of the class\n",
    "student_obj.student_details()\n",
    "\n",
    "\n"
   ]
  },
  {
   "cell_type": "markdown",
   "metadata": {},
   "source": [
    "Abstraction"
   ]
  },
  {
   "cell_type": "code",
   "execution_count": null,
   "metadata": {},
   "outputs": [],
   "source": []
  }
 ],
 "metadata": {
  "kernelspec": {
   "display_name": "base",
   "language": "python",
   "name": "python3"
  },
  "language_info": {
   "codemirror_mode": {
    "name": "ipython",
    "version": 3
   },
   "file_extension": ".py",
   "mimetype": "text/x-python",
   "name": "python",
   "nbconvert_exporter": "python",
   "pygments_lexer": "ipython3",
   "version": "3.9.13"
  },
  "orig_nbformat": 4
 },
 "nbformat": 4,
 "nbformat_minor": 2
}
