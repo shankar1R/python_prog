{
 "cells": [
  {
   "cell_type": "markdown",
   "metadata": {},
   "source": [
    "1 : Arithmetic operater"
   ]
  },
  {
   "cell_type": "code",
   "execution_count": 19,
   "metadata": {},
   "outputs": [
    {
     "name": "stdout",
     "output_type": "stream",
     "text": [
      "12\n",
      "36\n",
      "addition of number 48\n",
      "subtraction of number -24\n",
      "multiplication of number 432\n",
      "Division of  number 0.3333333333333333\n",
      "floar division of number 0\n",
      "moudul of  number 12\n",
      "squarerroot of  number 708801874985091845381344307009569161216\n",
      "cap of  number 40\n",
      "12.0\n"
     ]
    }
   ],
   "source": [
    "a=(int(input(\"enter the number\")))\n",
    "print(a)\n",
    "b=(int(input(\"enter the number\")))\n",
    "print(b)\n",
    "print(\"addition of number\",a+b)\n",
    "print(\"subtraction of number\",a-b)\n",
    "print(\"multiplication of number\",a*b)\n",
    "print(\"Division of  number\",a/b)\n",
    "print(\"floar division of number\",a//b)\n",
    "print(\"moudul of  number\",a%b)\n",
    "print(\"squarerroot of  number\",a**b)\n",
    "print(\"cap of  number\",a^b)\n",
    "print(a*b/a-b+a)"
   ]
  },
  {
   "cell_type": "code",
   "execution_count": 21,
   "metadata": {},
   "outputs": [
    {
     "data": {
      "text/plain": [
       "197.0"
      ]
     },
     "execution_count": 21,
     "metadata": {},
     "output_type": "execute_result"
    }
   ],
   "source": [
    "d=(2**3*5/6//67%4-2+199)\n",
    "d"
   ]
  },
  {
   "cell_type": "markdown",
   "metadata": {},
   "source": [
    "Assignment Operater"
   ]
  },
  {
   "cell_type": "code",
   "execution_count": 38,
   "metadata": {},
   "outputs": [
    {
     "name": "stdout",
     "output_type": "stream",
     "text": [
      "23\n",
      "34\n",
      "1.4782608695652173\n",
      "1.4782608695652173\n",
      "34.0\n",
      "1.675001082223014e+35\n",
      "7.282613400969626e+33\n",
      "35 35\n",
      "23 45\n",
      "1 2\n"
     ]
    }
   ],
   "source": [
    "a=23\n",
    "c=34\n",
    "c+=a\n",
    "print(a)\n",
    "c-=a\n",
    "print(c)\n",
    "c/=a\n",
    "print(c)\n",
    "c%=a\n",
    "print(c)\n",
    "c*=a\n",
    "print(c)\n",
    "c**=a\n",
    "print(c)\n",
    "c//=a\n",
    "print(c)\n",
    "\n",
    "# variabels taken as different methods\n",
    "a=b=35\n",
    "print(a,b)\n",
    "\n",
    "a,b=23,45\n",
    "print(a,b)\n",
    "\n",
    "a=1;b=2\n",
    "print(a,b)"
   ]
  },
  {
   "cell_type": "markdown",
   "metadata": {},
   "source": [
    "Unary minus Operator"
   ]
  },
  {
   "cell_type": "code",
   "execution_count": 41,
   "metadata": {},
   "outputs": [
    {
     "name": "stdout",
     "output_type": "stream",
     "text": [
      "-10\n",
      "-10\n"
     ]
    }
   ],
   "source": [
    "# unary using donated to symbol\n",
    "n=10\n",
    "print(-n)\n",
    "\n",
    "num=-n\n",
    "print(num)"
   ]
  },
  {
   "cell_type": "markdown",
   "metadata": {},
   "source": [
    "Relational Operaters"
   ]
  },
  {
   "cell_type": "code",
   "execution_count": 47,
   "metadata": {},
   "outputs": [
    {
     "name": "stdout",
     "output_type": "stream",
     "text": [
      "a grater thean b False\n",
      "a grater thean are equal to b False\n",
      "a lesser than b True\n",
      "a lesser than are equal to b True\n",
      "a equal equal to b False\n",
      "a not equal to b True\n"
     ]
    }
   ],
   "source": [
    "a=23\n",
    "b=34\n",
    "print(\"a grater thean b\",a>b)\n",
    "print(\"a grater thean are equal to b\",a>=b)\n",
    "print(\"a lesser than b\",a<b)\n",
    "print(\"a lesser than are equal to b\",a<=b)\n",
    "print(\"a equal equal to b\",a==b)\n",
    "print(\"a not equal to b\",a!=b)"
   ]
  },
  {
   "cell_type": "code",
   "execution_count": 59,
   "metadata": {},
   "outputs": [
    {
     "name": "stdout",
     "output_type": "stream",
     "text": [
      "True\n",
      "True\n",
      "False\n"
     ]
    }
   ],
   "source": [
    "print(10<a<30)\n",
    "print(40>b<40)\n",
    "\n",
    "if a>b:\n",
    "    print(True)\n",
    "else:\n",
    "    print(False)"
   ]
  }
 ],
 "metadata": {
  "kernelspec": {
   "display_name": "Python 3",
   "language": "python",
   "name": "python3"
  },
  "language_info": {
   "codemirror_mode": {
    "name": "ipython",
    "version": 3
   },
   "file_extension": ".py",
   "mimetype": "text/x-python",
   "name": "python",
   "nbconvert_exporter": "python",
   "pygments_lexer": "ipython3",
   "version": "3.9.13"
  },
  "orig_nbformat": 4
 },
 "nbformat": 4,
 "nbformat_minor": 2
}
