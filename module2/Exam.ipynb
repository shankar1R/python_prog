{
 "cells": [
  {
   "attachments": {},
   "cell_type": "markdown",
   "metadata": {},
   "source": [
    "1.Write a program to constructing a list of even numbers from  a list of  numbers in a csv sheet using list comprehension"
   ]
  },
  {
   "cell_type": "code",
   "execution_count": 2,
   "metadata": {},
   "outputs": [
    {
     "name": "stdout",
     "output_type": "stream",
     "text": [
      "[1, 2, 3, 4, 5, 6, 7, 8, 9, 1, 0, 1, 1, 1, 2, 1, 3, 1, 4, 1, 5, 1, 6, 1, 7, 1, 8, 1, 9, 2, 0, 2, 1, 2, 2, 2, 3, 2, 4, 2, 5, 2, 6, 2, 7, 2, 8, 2, 9, 3, 0, 3, 1, 3, 2, 3, 3, 3, 4, 3, 5, 3, 6, 3, 7, 3, 8, 3, 9, 4, 0, 4, 1, 4, 2, 4, 3, 4, 4, 4, 5, 4, 6, 4, 7, 4, 8, 4, 9, 5, 0, 5, 1, 5, 2, 5, 3, 5, 4, 5, 5, 5, 6, 5, 7, 5, 8, 5, 9, 6, 0, 6, 1, 6, 2, 6, 3, 6, 4, 6, 5, 6, 6, 6, 7, 6, 8, 6, 9, 7, 0, 7, 1, 7, 2, 7, 3, 7, 4, 7, 5, 7, 6, 7, 7, 7, 8, 7, 9, 8, 0, 8, 1, 8, 2, 8, 3, 8, 4, 8, 5, 8, 6, 8, 7, 8, 8, 8, 9, 9, 0, 9, 1, 9, 2, 9, 3, 9, 4, 9, 5, 9, 6, 9, 7, 9, 8, 9, 9, 1, 0, 0]\n",
      "[2, 4, 6, 8, 0, 2, 4, 6, 8, 2, 0, 2, 2, 2, 2, 2, 4, 2, 2, 6, 2, 2, 8, 2, 0, 2, 4, 6, 8, 4, 0, 4, 4, 2, 4, 4, 4, 4, 4, 6, 4, 4, 8, 4, 0, 2, 4, 6, 8, 6, 0, 6, 6, 2, 6, 6, 4, 6, 6, 6, 6, 6, 8, 6, 0, 2, 4, 6, 8, 8, 0, 8, 8, 2, 8, 8, 4, 8, 8, 6, 8, 8, 8, 8, 0, 2, 4, 6, 8, 0, 0]\n"
     ]
    }
   ],
   "source": [
    "import  csv\n",
    "\n",
    "numbers=[]\n",
    "with open(\"C:/Users/User/Desktop/csv_sheet/a..csv\",\"r\") as file:\n",
    "        data=csv.reader(file)\n",
    "        for line in data:\n",
    "            for i in line:\n",
    "                for item in i:\n",
    "                    numbers.append(int(item))\n",
    "        print(numbers)\n",
    "        \n",
    "\n",
    "        even_number=[num for num in numbers if num%2==0]\n",
    "        print(even_number)\n"
   ]
  },
  {
   "attachments": {},
   "cell_type": "markdown",
   "metadata": {},
   "source": [
    "2.Write apython & create a class namede employee with atrribute name, position ,and salary.Write a method calculate the annual salary of the employee"
   ]
  },
  {
   "cell_type": "code",
   "execution_count": 3,
   "metadata": {},
   "outputs": [
    {
     "name": "stdout",
     "output_type": "stream",
     "text": [
      "Annual salary of Employee 960000\n"
     ]
    }
   ],
   "source": [
    "class Employee():\n",
    "    name=\"\"\n",
    "    position=\"\"\n",
    "    salary=0\n",
    "\n",
    "    def __init__(self,name,position,salary):\n",
    "        self.name=name\n",
    "        self.position=position\n",
    "        self.salary=salary\n",
    "\n",
    "    def call_function(self):\n",
    "        print(\"Annual salary of Employee\",self.salary*12)\n",
    "\n",
    "obj=Employee(\"shankar\",\"HR\",80000)\n",
    "obj.call_function()\n"
   ]
  },
  {
   "attachments": {},
   "cell_type": "markdown",
   "metadata": {},
   "source": [
    "4.Write a program that uses a lambda expression to square each element in a list"
   ]
  },
  {
   "cell_type": "code",
   "execution_count": 4,
   "metadata": {},
   "outputs": [
    {
     "name": "stdout",
     "output_type": "stream",
     "text": [
      "[1, 4, 9, 16, 25, 36, 49, 64, 81]\n"
     ]
    }
   ],
   "source": [
    "numbers=[1,2,3,4,5,6,7,8,9]\n",
    "lambda_Expression=list(map(lambda x:x**2,numbers))\n",
    "print(lambda_Expression)"
   ]
  },
  {
   "attachments": {},
   "cell_type": "markdown",
   "metadata": {},
   "source": [
    "3.Write a program that reads a csv file and extract specific columns from it ,also handles afile_not_found_error and prints a custom error message"
   ]
  },
  {
   "cell_type": "code",
   "execution_count": 14,
   "metadata": {},
   "outputs": [
    {
     "name": "stdout",
     "output_type": "stream",
     "text": [
      "File not found\n"
     ]
    }
   ],
   "source": [
    "import csv\n",
    "try:\n",
    "    with open(\"C:/Users/User/Desktop/python_prog/module2/csv_sheet/Video_Games_Sales_as_at_22_Dec_2011.csv\",\"r\") as file: #2016\n",
    "        data=csv.reader(file)\n",
    "        for line in data:\n",
    "            if (line[2]==\"2010\" and line[0]):\n",
    "                print(line[2],line[0])\n",
    "except FileNotFoundError:\n",
    "    print(\"File not found\")"
   ]
  },
  {
   "attachments": {},
   "cell_type": "markdown",
   "metadata": {},
   "source": [
    "5.Write a python write a program that reads a text file and prints its content to the console and demonstrate append mode"
   ]
  }
 ],
 "metadata": {
  "kernelspec": {
   "display_name": "Python 3",
   "language": "python",
   "name": "python3"
  },
  "language_info": {
   "codemirror_mode": {
    "name": "ipython",
    "version": 3
   },
   "file_extension": ".py",
   "mimetype": "text/x-python",
   "name": "python",
   "nbconvert_exporter": "python",
   "pygments_lexer": "ipython3",
   "version": "3.11.3"
  },
  "orig_nbformat": 4
 },
 "nbformat": 4,
 "nbformat_minor": 2
}
