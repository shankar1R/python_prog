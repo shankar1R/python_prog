{
 "cells": [
  {
   "attachments": {},
   "cell_type": "markdown",
   "metadata": {},
   "source": [
    "Built in function of Dictionary"
   ]
  },
  {
   "attachments": {},
   "cell_type": "markdown",
   "metadata": {},
   "source": [
    "using (len) function"
   ]
  },
  {
   "cell_type": "code",
   "execution_count": 4,
   "metadata": {},
   "outputs": [
    {
     "name": "stdout",
     "output_type": "stream",
     "text": [
      "{'a': 12, 'b': 2}\n"
     ]
    }
   ],
   "source": [
    "d1={\"a\":12,\"b\":2}\n",
    "len(d1) # Find the length of d1\n",
    "print(d1)\n"
   ]
  },
  {
   "cell_type": "code",
   "execution_count": 13,
   "metadata": {},
   "outputs": [
    {
     "data": {
      "text/plain": [
       "{'Name': 'Shankar', 'Age': 19}"
      ]
     },
     "execution_count": 13,
     "metadata": {},
     "output_type": "execute_result"
    }
   ],
   "source": [
    "dic1={\"Name\" :\"Shankar\",\"Age\":19}\n",
    "len(dic1)\n",
    "dic1"
   ]
  },
  {
   "attachments": {},
   "cell_type": "markdown",
   "metadata": {},
   "source": [
    "using (key) Function"
   ]
  },
  {
   "cell_type": "code",
   "execution_count": 10,
   "metadata": {},
   "outputs": [
    {
     "name": "stdout",
     "output_type": "stream",
     "text": [
      "dict_keys(['a', 'b', 'Name'])\n"
     ]
    }
   ],
   "source": [
    "d1={\"a\":12,\"b\":2, \"Name\":{1:\"Shankar\"}}\n",
    "print(d1.keys()) # Pickup the   only keys"
   ]
  },
  {
   "cell_type": "code",
   "execution_count": 15,
   "metadata": {},
   "outputs": [
    {
     "name": "stdout",
     "output_type": "stream",
     "text": [
      "dict_keys(['Name', 'Age'])\n"
     ]
    }
   ],
   "source": [
    "dic1={\"Name\" :\"Shankar\",\"Age\":19}\n",
    "\n",
    "print(dic1.keys())"
   ]
  },
  {
   "attachments": {},
   "cell_type": "markdown",
   "metadata": {},
   "source": [
    "using (Values) Function"
   ]
  },
  {
   "cell_type": "code",
   "execution_count": 11,
   "metadata": {},
   "outputs": [
    {
     "name": "stdout",
     "output_type": "stream",
     "text": [
      "dict_values([12, 2, {1: 'Shankar'}])\n"
     ]
    }
   ],
   "source": [
    "d1={\"a\":12,\"b\":2, \"Name\":{1:\"Shankar\"}}\n",
    "print(d1.values()) # Pickup the only Values \n"
   ]
  },
  {
   "cell_type": "code",
   "execution_count": 16,
   "metadata": {},
   "outputs": [
    {
     "name": "stdout",
     "output_type": "stream",
     "text": [
      "dict_values(['Shankar', 19])\n"
     ]
    }
   ],
   "source": [
    "dic1={\"Name\" :\"Shankar\",\"Age\":19}\n",
    "print(dic1.values())"
   ]
  },
  {
   "attachments": {},
   "cell_type": "markdown",
   "metadata": {},
   "source": [
    "using (items) Function"
   ]
  },
  {
   "cell_type": "code",
   "execution_count": 15,
   "metadata": {},
   "outputs": [
    {
     "name": "stdout",
     "output_type": "stream",
     "text": [
      "dict_items([('a', 12), ('b', 2), ('Name', {1: 'Shankar'})])\n"
     ]
    }
   ],
   "source": [
    "d1={\"a\":12,\"b\":2, \"Name\":{1:\"Shankar\"}}\n",
    "print(d1.items()) # key-value pair  answer return in the Dictionary as touple\n"
   ]
  },
  {
   "cell_type": "code",
   "execution_count": 17,
   "metadata": {},
   "outputs": [
    {
     "name": "stdout",
     "output_type": "stream",
     "text": [
      "dict_items([('Name', 'Shankar'), ('Age', 19)])\n"
     ]
    }
   ],
   "source": [
    "dic1={\"Name\" :\"Shankar\",\"Age\":19}\n",
    "print(dic1.items())"
   ]
  },
  {
   "attachments": {},
   "cell_type": "markdown",
   "metadata": {},
   "source": [
    "using (get) Function\n"
   ]
  },
  {
   "cell_type": "code",
   "execution_count": 2,
   "metadata": {},
   "outputs": [
    {
     "name": "stdout",
     "output_type": "stream",
     "text": [
      "2\n"
     ]
    }
   ],
   "source": [
    "d1={\"a\":12,\"b\":2, \"Name\":{1:\"Shankar\"}}\n",
    "print(d1.get(\"b\")) # get the value of key using (get) Function"
   ]
  },
  {
   "cell_type": "code",
   "execution_count": 18,
   "metadata": {},
   "outputs": [
    {
     "name": "stdout",
     "output_type": "stream",
     "text": [
      "19\n"
     ]
    }
   ],
   "source": [
    "dic1={\"Name\" :\"Shankar\",\"Age\":19}\n",
    "print(dic1.get(\"Age\"))"
   ]
  },
  {
   "attachments": {},
   "cell_type": "markdown",
   "metadata": {},
   "source": [
    "using (pop) Function"
   ]
  },
  {
   "cell_type": "code",
   "execution_count": 8,
   "metadata": {},
   "outputs": [
    {
     "name": "stdout",
     "output_type": "stream",
     "text": [
      "{'A': 100, 'B': 200}\n"
     ]
    }
   ],
   "source": [
    "d2={\"A\":100,\"B\":200,\"C\":300}\n",
    "d2.pop(\"C\") # Remove the key-value pair using (pop) Function\n",
    "print(d2)"
   ]
  },
  {
   "cell_type": "code",
   "execution_count": 20,
   "metadata": {},
   "outputs": [
    {
     "name": "stdout",
     "output_type": "stream",
     "text": [
      "{'Name': 'Shankar', 'Age': 19}\n",
      "{'Name': 'Shankar'}\n"
     ]
    }
   ],
   "source": [
    "dic1={\"Name\" :\"Shankar\",\"Age\":19}\n",
    "print(dic1)\n",
    "dic1.pop(\"Age\")\n",
    "print(dic1)"
   ]
  },
  {
   "attachments": {},
   "cell_type": "markdown",
   "metadata": {},
   "source": [
    "using (popitem) Function"
   ]
  },
  {
   "cell_type": "code",
   "execution_count": 25,
   "metadata": {},
   "outputs": [
    {
     "name": "stdout",
     "output_type": "stream",
     "text": [
      "{'A': 100, 'B': 200, 'C': 300}\n",
      "{'A': 100, 'B': 200}\n"
     ]
    }
   ],
   "source": [
    "d2={\"A\":100,\"B\":200,\"C\":300}\n",
    "print(d2)\n",
    "d2.popitem() # Remove the  last Element\n",
    "print(d2)"
   ]
  },
  {
   "cell_type": "code",
   "execution_count": 27,
   "metadata": {},
   "outputs": [
    {
     "name": "stdout",
     "output_type": "stream",
     "text": [
      "{'Name': 'Shankar', 'Age': 19}\n",
      "{'Name': 'Shankar'}\n"
     ]
    }
   ],
   "source": [
    "dic1={\"Name\" :\"Shankar\",\"Age\":19}\n",
    "print(dic1)\n",
    "dic1.popitem()\n",
    "print(dic1)"
   ]
  },
  {
   "attachments": {},
   "cell_type": "markdown",
   "metadata": {},
   "source": [
    "using (clear) Function"
   ]
  },
  {
   "cell_type": "code",
   "execution_count": 38,
   "metadata": {},
   "outputs": [
    {
     "name": "stdout",
     "output_type": "stream",
     "text": [
      "{'A': 100, 'B': 200, 'C': 300}\n",
      "{}\n"
     ]
    }
   ],
   "source": [
    "d2={\"A\":100,\"B\":200,\"C\":300}\n",
    "print(d2)\n",
    "d2.clear() # clear the hole Dictionary\n",
    "print(d2)\n"
   ]
  },
  {
   "cell_type": "code",
   "execution_count": 37,
   "metadata": {},
   "outputs": [
    {
     "name": "stdout",
     "output_type": "stream",
     "text": [
      "{'Name': 'Shankar', 'Age': 19}\n",
      "{}\n"
     ]
    }
   ],
   "source": [
    "dic1={\"Name\" :\"Shankar\",\"Age\":19}\n",
    "print(dic1)\n",
    "dic1.clear()\n",
    "print(dic1)"
   ]
  },
  {
   "attachments": {},
   "cell_type": "markdown",
   "metadata": {},
   "source": [
    "using (update) Function"
   ]
  },
  {
   "cell_type": "code",
   "execution_count": 41,
   "metadata": {},
   "outputs": [
    {
     "name": "stdout",
     "output_type": "stream",
     "text": [
      "{'A': 100, 'B': 200, 'C': 300}\n",
      "{'A': 400, 'B': 200, 'C': 300}\n"
     ]
    }
   ],
   "source": [
    "d2={\"A\":100,\"B\":200,\"C\":300}\n",
    "print(d2)\n",
    "d2.update({\"A\":400}) # update the Dictionary\n",
    "print(d2)\n"
   ]
  },
  {
   "cell_type": "code",
   "execution_count": 42,
   "metadata": {},
   "outputs": [
    {
     "name": "stdout",
     "output_type": "stream",
     "text": [
      "{'Name': 'Shankar', 'Age': 19, 'ID': 123445}\n"
     ]
    }
   ],
   "source": [
    "dic1={\"Name\" :\"Shankar\",\"Age\":19}\n",
    "dic1.update({\"ID\":123445})\n",
    "print(dic1)"
   ]
  },
  {
   "attachments": {},
   "cell_type": "markdown",
   "metadata": {},
   "source": [
    "using (key in dic) Function"
   ]
  },
  {
   "cell_type": "code",
   "execution_count": 50,
   "metadata": {},
   "outputs": [
    {
     "name": "stdout",
     "output_type": "stream",
     "text": [
      "False\n"
     ]
    }
   ],
   "source": [
    "d2={\"A\":100,\"B\":200,\"C\":300}\n",
    "\n",
    "if \"b\" in d2 :\n",
    "    print(\"True\")\n",
    "else:\n",
    "    print(\"False\")\n"
   ]
  }
 ],
 "metadata": {
  "kernelspec": {
   "display_name": "Python 3",
   "language": "python",
   "name": "python3"
  },
  "language_info": {
   "codemirror_mode": {
    "name": "ipython",
    "version": 3
   },
   "file_extension": ".py",
   "mimetype": "text/x-python",
   "name": "python",
   "nbconvert_exporter": "python",
   "pygments_lexer": "ipython3",
   "version": "3.11.3"
  },
  "orig_nbformat": 4
 },
 "nbformat": 4,
 "nbformat_minor": 2
}
