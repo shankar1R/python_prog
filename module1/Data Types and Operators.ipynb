{
 "cells": [
  {
   "attachments": {},
   "cell_type": "markdown",
   "metadata": {},
   "source": [
    "Data Types and Operators"
   ]
  },
  {
   "attachments": {},
   "cell_type": "markdown",
   "metadata": {},
   "source": [
    "Integers (type(variabel name))"
   ]
  },
  {
   "cell_type": "code",
   "execution_count": 6,
   "metadata": {},
   "outputs": [
    {
     "name": "stdout",
     "output_type": "stream",
     "text": [
      "type of a: <class 'int'>\n",
      "type of  b: <class 'int'>\n"
     ]
    }
   ],
   "source": [
    " # use only numerical value \n",
    "a=5\n",
    "print(\"type of a:\",type(a))\n",
    "\n",
    "b=2\n",
    "print(\"type of  b:\",type(b))"
   ]
  },
  {
   "attachments": {},
   "cell_type": "markdown",
   "metadata": {},
   "source": [
    "floats (type(variabel name))"
   ]
  },
  {
   "cell_type": "code",
   "execution_count": 9,
   "metadata": {},
   "outputs": [
    {
     "name": "stdout",
     "output_type": "stream",
     "text": [
      "type of b : <class 'float'>\n",
      "type of b : <class 'float'>\n"
     ]
    }
   ],
   "source": [
    "# use only decimal value in floats\n",
    "a=0.4\n",
    "print(\"type of a :\",type(a))\n",
    "\n",
    "b=9.0101\n",
    "print(\"type of b :\",type(b))"
   ]
  },
  {
   "attachments": {},
   "cell_type": "markdown",
   "metadata": {},
   "source": [
    "complex number (type(variable name))"
   ]
  },
  {
   "cell_type": "code",
   "execution_count": 12,
   "metadata": {},
   "outputs": [
    {
     "name": "stdout",
     "output_type": "stream",
     "text": [
      "type of a: <class 'complex'>\n",
      "type of b: <class 'complex'>\n"
     ]
    }
   ],
   "source": [
    "# use only complex number \n",
    "a=2+8j\n",
    "print(\"type of a:\",type(a))\n",
    "\n",
    "b=92+187j\n",
    "print(\"type of b:\",type(b))"
   ]
  },
  {
   "attachments": {},
   "cell_type": "markdown",
   "metadata": {},
   "source": [
    "Boolean type(True/false)"
   ]
  },
  {
   "cell_type": "code",
   "execution_count": 15,
   "metadata": {},
   "outputs": [
    {
     "name": "stdout",
     "output_type": "stream",
     "text": [
      "<class 'bool'>\n",
      "<class 'bool'>\n"
     ]
    }
   ],
   "source": [
    "# use only true/false\n",
    "a=True\n",
    "b=False\n",
    "print(type(a))\n",
    "print(type(b))"
   ]
  },
  {
   "attachments": {},
   "cell_type": "markdown",
   "metadata": {},
   "source": [
    "Strings (type( variable name))\n",
    "\n"
   ]
  },
  {
   "cell_type": "code",
   "execution_count": 22,
   "metadata": {},
   "outputs": [
    {
     "name": "stdout",
     "output_type": "stream",
     "text": [
      "type of string :  <class 'str'>\n",
      "type of string1 : <class 'str'>\n",
      "type of string3 : <class 'str'>\n"
     ]
    }
   ],
   "source": [
    "# given in ''/\"\"/''''' method\n",
    "string='Hello to world'\n",
    "print( \"type of string : \",type(string))\n",
    "\n",
    "string1=\"welcome to python\"\n",
    "print(\"type of string1 :\",type(string1))\n",
    "\n",
    "string3='''hello\n",
    "    to world'''\n",
    "print(\"type of string3 :\" ,type(string3))"
   ]
  },
  {
   "attachments": {},
   "cell_type": "markdown",
   "metadata": {},
   "source": [
    "List()"
   ]
  },
  {
   "cell_type": "code",
   "execution_count": 29,
   "metadata": {},
   "outputs": [
    {
     "name": "stdout",
     "output_type": "stream",
     "text": [
      "[]\n",
      "(['python'], ['to world'])\n",
      "['python']\n"
     ]
    }
   ],
   "source": [
    "list=[] # create empty list\n",
    "print(list)\n",
    "\n",
    "list=[\"python\"] ,[\"to world\"]\n",
    "print(list) # print the strings\n",
    "\n",
    "print(list[0]) # access the list using index number"
   ]
  },
  {
   "attachments": {},
   "cell_type": "markdown",
   "metadata": {},
   "source": [
    "Tuples()"
   ]
  },
  {
   "cell_type": "code",
   "execution_count": 36,
   "metadata": {},
   "outputs": [
    {
     "name": "stdout",
     "output_type": "stream",
     "text": [
      "()\n"
     ]
    },
    {
     "data": {
      "text/plain": [
       "(('welcome ', 'to python'), ('Hello', 'pyhton'))"
      ]
     },
     "execution_count": 36,
     "metadata": {},
     "output_type": "execute_result"
    }
   ],
   "source": [
    "t=()\n",
    "print(t)\n",
    "\n",
    "t=(\"welcome \"),(\"to python\")\n",
    "t1=(\"Hello\",\"pyhton\")\n",
    "t2=(t,t1)\n",
    "t2\n",
    "\n",
    "\n"
   ]
  },
  {
   "attachments": {},
   "cell_type": "markdown",
   "metadata": {},
   "source": [
    "set {}"
   ]
  },
  {
   "cell_type": "code",
   "execution_count": 50,
   "metadata": {},
   "outputs": [
    {
     "name": "stdout",
     "output_type": "stream",
     "text": [
      "{}\n",
      "{'to python', 'welcome'}\n",
      "{'to python', 'welcome'}{'to python', 'welcome'}"
     ]
    }
   ],
   "source": [
    "set={}\n",
    "print(set)\n",
    "\n",
    "set={'welcome',\"to python\"}\n",
    "print(set)\n",
    "for i in set:\n",
    "    print(set,end=\"\")"
   ]
  },
  {
   "attachments": {},
   "cell_type": "markdown",
   "metadata": {},
   "source": [
    "Dictionaries {}"
   ]
  },
  {
   "cell_type": "code",
   "execution_count": 53,
   "metadata": {},
   "outputs": [
    {
     "name": "stdout",
     "output_type": "stream",
     "text": [
      "{}\n",
      "{'a': 100, 'b': 200}\n",
      "{1: 100, 2: 200, 3: {'A': 'Name', 'B': 'Adress'}}\n"
     ]
    }
   ],
   "source": [
    "D={} # print(empty Dictionries)\n",
    "print(D)\n",
    "\n",
    "D={\"a\":100,\"b\":200}\n",
    "print(D) \n",
    "\n",
    "D={1:100,2:200,3:{\"A\":\"Name\",\"B\":\"Adress\"}}\n",
    "print(D)"
   ]
  }
 ],
 "metadata": {
  "kernelspec": {
   "display_name": "Python 3",
   "language": "python",
   "name": "python3"
  },
  "language_info": {
   "codemirror_mode": {
    "name": "ipython",
    "version": 3
   },
   "file_extension": ".py",
   "mimetype": "text/x-python",
   "name": "python",
   "nbconvert_exporter": "python",
   "pygments_lexer": "ipython3",
   "version": "3.11.3"
  },
  "orig_nbformat": 4
 },
 "nbformat": 4,
 "nbformat_minor": 2
}
