{
 "cells": [
  {
   "attachments": {},
   "cell_type": "markdown",
   "metadata": {},
   "source": [
    "1. CREAT 6X6 ORDER MATRIX USING  LIST COMPREHENSION MATHOD AND ALL MATRIX  VALUE MUST BE ODD NUMBER REPETATION ALLOWED"
   ]
  },
  {
   "cell_type": "code",
   "execution_count": 1,
   "metadata": {},
   "outputs": [
    {
     "data": {
      "text/plain": [
       "[[1, 3, 5, 7, 9, 11],\n",
       " [1, 3, 5, 7, 9, 11],\n",
       " [1, 3, 5, 7, 9, 11],\n",
       " [1, 3, 5, 7, 9, 11],\n",
       " [1, 3, 5, 7, 9, 11],\n",
       " [1, 3, 5, 7, 9, 11]]"
      ]
     },
     "execution_count": 1,
     "metadata": {},
     "output_type": "execute_result"
    }
   ],
   "source": [
    "matrix=[[i for i in range(12) if (i%2!=0)] for j in range(6)]\n",
    "matrix"
   ]
  },
  {
   "attachments": {},
   "cell_type": "markdown",
   "metadata": {},
   "source": [
    "1. CREAT 16X16 ORDER MATRIX USING  LIST COMPREHENSION MATHOD AND ALL MATRIX  VALUE MUST BE ODD NUMBER REPETATION ALLOWED"
   ]
  },
  {
   "cell_type": "code",
   "execution_count": 2,
   "metadata": {},
   "outputs": [
    {
     "data": {
      "text/plain": [
       "[[1, 3, 5, 7, 9, 11, 13, 15, 17, 19, 21, 23, 25, 27, 29, 31],\n",
       " [1, 3, 5, 7, 9, 11, 13, 15, 17, 19, 21, 23, 25, 27, 29, 31],\n",
       " [1, 3, 5, 7, 9, 11, 13, 15, 17, 19, 21, 23, 25, 27, 29, 31],\n",
       " [1, 3, 5, 7, 9, 11, 13, 15, 17, 19, 21, 23, 25, 27, 29, 31],\n",
       " [1, 3, 5, 7, 9, 11, 13, 15, 17, 19, 21, 23, 25, 27, 29, 31],\n",
       " [1, 3, 5, 7, 9, 11, 13, 15, 17, 19, 21, 23, 25, 27, 29, 31],\n",
       " [1, 3, 5, 7, 9, 11, 13, 15, 17, 19, 21, 23, 25, 27, 29, 31],\n",
       " [1, 3, 5, 7, 9, 11, 13, 15, 17, 19, 21, 23, 25, 27, 29, 31],\n",
       " [1, 3, 5, 7, 9, 11, 13, 15, 17, 19, 21, 23, 25, 27, 29, 31],\n",
       " [1, 3, 5, 7, 9, 11, 13, 15, 17, 19, 21, 23, 25, 27, 29, 31],\n",
       " [1, 3, 5, 7, 9, 11, 13, 15, 17, 19, 21, 23, 25, 27, 29, 31],\n",
       " [1, 3, 5, 7, 9, 11, 13, 15, 17, 19, 21, 23, 25, 27, 29, 31],\n",
       " [1, 3, 5, 7, 9, 11, 13, 15, 17, 19, 21, 23, 25, 27, 29, 31],\n",
       " [1, 3, 5, 7, 9, 11, 13, 15, 17, 19, 21, 23, 25, 27, 29, 31],\n",
       " [1, 3, 5, 7, 9, 11, 13, 15, 17, 19, 21, 23, 25, 27, 29, 31],\n",
       " [1, 3, 5, 7, 9, 11, 13, 15, 17, 19, 21, 23, 25, 27, 29, 31]]"
      ]
     },
     "execution_count": 2,
     "metadata": {},
     "output_type": "execute_result"
    }
   ],
   "source": [
    "matrix=[[i for i in range(32) if (i%2!=0)] for j in range(16)]\n",
    "matrix"
   ]
  },
  {
   "cell_type": "code",
   "execution_count": 4,
   "metadata": {},
   "outputs": [
    {
     "name": "stdout",
     "output_type": "stream",
     "text": [
      "[1, 2, 3, 4, 5, [6, 7, 8, 9]]\n"
     ]
    }
   ],
   "source": [
    "list1=[1,2,3,4,5]\n",
    "list1.append([6,7,8,9])\n",
    "print(list1)\n",
    "\n"
   ]
  },
  {
   "cell_type": "code",
   "execution_count": 5,
   "metadata": {},
   "outputs": [
    {
     "name": "stdout",
     "output_type": "stream",
     "text": [
      "2\n"
     ]
    }
   ],
   "source": [
    "list=[1,2,3,4,1,5]\n",
    "print(list.count(1))\n"
   ]
  },
  {
   "cell_type": "code",
   "execution_count": 6,
   "metadata": {},
   "outputs": [
    {
     "name": "stdout",
     "output_type": "stream",
     "text": [
      "[1, 2, 3, 4, 5, 6, 7, 8, 9]\n"
     ]
    }
   ],
   "source": [
    "list=[1,2,3,4,5]\n",
    "list.extend([6,7,8,9])\n",
    "print(list)"
   ]
  },
  {
   "cell_type": "code",
   "execution_count": 7,
   "metadata": {},
   "outputs": [
    {
     "name": "stdout",
     "output_type": "stream",
     "text": [
      "[7, 1, 2, 3, 4, 5]\n"
     ]
    }
   ],
   "source": [
    "list=[1,2,3,4,5]\n",
    "list.insert(0,7)\n",
    "print(list)"
   ]
  },
  {
   "cell_type": "code",
   "execution_count": 8,
   "metadata": {},
   "outputs": [
    {
     "name": "stdout",
     "output_type": "stream",
     "text": [
      "2\n"
     ]
    }
   ],
   "source": [
    "list=[1,2,3,4,5]\n",
    "print(list.pop(1))"
   ]
  },
  {
   "cell_type": "code",
   "execution_count": 9,
   "metadata": {},
   "outputs": [
    {
     "name": "stdout",
     "output_type": "stream",
     "text": [
      "None\n",
      "None\n",
      "[1, 2, 3, 4, 6, 7, 8, 9, 10]\n"
     ]
    }
   ],
   "source": [
    "list=[1,2,3,4,5,6,7,8,9,10,5]\n",
    "print(list.remove(5))\n",
    "print(list.remove(5))\n",
    "print(list)"
   ]
  },
  {
   "cell_type": "code",
   "execution_count": 10,
   "metadata": {},
   "outputs": [
    {
     "data": {
      "text/plain": [
       "[1, 2, 3, 4, 5, 5, 6, 7, 8, 9, 10]"
      ]
     },
     "execution_count": 10,
     "metadata": {},
     "output_type": "execute_result"
    }
   ],
   "source": [
    "list=[1,2,3,4,5,6,7,8,9,10,5]\n",
    "list.sort()\n",
    "list\n",
    "\n",
    "\n"
   ]
  },
  {
   "cell_type": "code",
   "execution_count": 11,
   "metadata": {},
   "outputs": [
    {
     "data": {
      "text/plain": [
       "[[0, 1, 2, 3, 4, 5, 6, 7, 8, 9, 10, 11, 12, 13, 14, 15],\n",
       " [0, 1, 2, 3, 4, 5, 6, 7, 8, 9, 10, 11, 12, 13, 14, 15],\n",
       " [0, 1, 2, 3, 4, 5, 6, 7, 8, 9, 10, 11, 12, 13, 14, 15],\n",
       " [0, 1, 2, 3, 4, 5, 6, 7, 8, 9, 10, 11, 12, 13, 14, 15],\n",
       " [0, 1, 2, 3, 4, 5, 6, 7, 8, 9, 10, 11, 12, 13, 14, 15],\n",
       " [0, 1, 2, 3, 4, 5, 6, 7, 8, 9, 10, 11, 12, 13, 14, 15],\n",
       " [0, 1, 2, 3, 4, 5, 6, 7, 8, 9, 10, 11, 12, 13, 14, 15],\n",
       " [0, 1, 2, 3, 4, 5, 6, 7, 8, 9, 10, 11, 12, 13, 14, 15],\n",
       " [0, 1, 2, 3, 4, 5, 6, 7, 8, 9, 10, 11, 12, 13, 14, 15],\n",
       " [0, 1, 2, 3, 4, 5, 6, 7, 8, 9, 10, 11, 12, 13, 14, 15],\n",
       " [0, 1, 2, 3, 4, 5, 6, 7, 8, 9, 10, 11, 12, 13, 14, 15],\n",
       " [0, 1, 2, 3, 4, 5, 6, 7, 8, 9, 10, 11, 12, 13, 14, 15],\n",
       " [0, 1, 2, 3, 4, 5, 6, 7, 8, 9, 10, 11, 12, 13, 14, 15],\n",
       " [0, 1, 2, 3, 4, 5, 6, 7, 8, 9, 10, 11, 12, 13, 14, 15],\n",
       " [0, 1, 2, 3, 4, 5, 6, 7, 8, 9, 10, 11, 12, 13, 14, 15],\n",
       " [0, 1, 2, 3, 4, 5, 6, 7, 8, 9, 10, 11, 12, 13, 14, 15]]"
      ]
     },
     "execution_count": 11,
     "metadata": {},
     "output_type": "execute_result"
    }
   ],
   "source": [
    "mat=[]\n",
    "for i in range(16):\n",
    "    mat.append([])\n",
    "    for j in range(16):\n",
    "        mat[i].append(j)\n",
    "mat\n"
   ]
  },
  {
   "cell_type": "code",
   "execution_count": 12,
   "metadata": {},
   "outputs": [
    {
     "name": "stdout",
     "output_type": "stream",
     "text": [
      "{40, 41, 42, 43, 44, 45, 46, 47, 48, 49, 50, 51, 52, 53, 54, 55, 56, 57, 58, 59}\n",
      "{50, 51, 52, 53, 54, 55, 56, 57, 58, 59}\n"
     ]
    }
   ],
   "source": [
    "class_A=set()\n",
    "class_B=set()\n",
    "class_c=set()\n",
    "for i in range(35,60):\n",
    "    class_A.add(i)\n",
    "for j in range(40,75):\n",
    "    class_B.add(j)\n",
    "for k in range(50,99):\n",
    "    class_c.add(k)\n",
    "\n",
    "total1=class_A.intersection(class_B)\n",
    "print(total1)\n",
    "Total=total1.intersection(class_c)\n",
    "print(Total)"
   ]
  },
  {
   "cell_type": "code",
   "execution_count": 13,
   "metadata": {},
   "outputs": [
    {
     "name": "stdout",
     "output_type": "stream",
     "text": [
      "It is a palindrome  num\n"
     ]
    }
   ],
   "source": [
    "# num=141\n",
    "# f=num\n",
    "# sum=0\n",
    "# while num >= 0:\n",
    "#     rem = num%10\n",
    "#     sum=sum*10+rem\n",
    "#     num=num/10 \n",
    "\n",
    "# if f==sum:\n",
    "#     print(\"it is palindrome:\",sum)\n",
    "\n",
    "# else:\n",
    "#     print(\"it is not a palindrome number\")\n",
    "\n",
    "a=\"151\"\n",
    "b=\"\"\n",
    "\n",
    "for i in a:\n",
    "    b=i+b\n",
    "\n",
    "if (a==b):\n",
    "    print(\"It is a palindrome  num\")\n",
    "\n",
    "else:\n",
    "    print(\" it is not palindrome num\")\n"
   ]
  },
  {
   "attachments": {},
   "cell_type": "markdown",
   "metadata": {},
   "source": [
    "Create 5 classes of engineers with their attributes with job descriptions using inheritance.\n",
    "\n"
   ]
  },
  {
   "cell_type": "code",
   "execution_count": 14,
   "metadata": {},
   "outputs": [
    {
     "name": "stdout",
     "output_type": "stream",
     "text": [
      "Ravi  is a cs engineer with 5  years of experience , and 25 years  old.\n",
      "samarth  is a MEC engineer with 4  years of experience,and 20 years old.\n",
      "gourav  is a EC engineer with 3  years of experience ,and 19 years  old.\n",
      "shankar  is a civil engineer with 2  years of experience , and 21 years  old.\n",
      "suswit  is a EE engineer with 6  years of experience , and 23 years old.\n"
     ]
    }
   ],
   "source": [
    "class engineers ():\n",
    "\n",
    "    def __init__(self,name,age,experince):\n",
    "        self.name=name\n",
    "        self.age=age\n",
    "        self.experince=experince\n",
    "\n",
    "    def job_rool(self):\n",
    "            pass\n",
    "\n",
    "class  cs_engineer(engineers):\n",
    "\n",
    "    def __init__(self, name, age, experince):\n",
    "        super().__init__(name, age,experince)\n",
    "        self.experince=experince\n",
    "\n",
    "    def job_rool(self):\n",
    "        return f\"{self.name}  is a cs engineer with {self.experince}  years of experience , and {self.age} years  old.\"\n",
    "    \n",
    "class  EC_engineer(engineers):\n",
    "\n",
    "    def __init__(self, name, age, experince):\n",
    "        super().__init__(name, age,experince)\n",
    "        self.experince=experince\n",
    "\n",
    "    def job_rool(self):\n",
    "        return f\"{self.name}  is a EC engineer with {self.experince}  years of experience ,and {self.age} years  old.\"\n",
    "\n",
    "\n",
    "class MEC_engineer(engineers):\n",
    "\n",
    "    def __init__(self, name, age, experince):\n",
    "        super().__init__(name, age,experince)\n",
    "        self.experince=experince\n",
    "\n",
    "    def job_rool(self):\n",
    "        return f\"{self.name}  is a MEC engineer with {self.experince}  years of experience,and {self.age} years old.\"\n",
    "    \n",
    "\n",
    "class  civil_engineer(engineers):\n",
    "\n",
    "    def __init__(self, name, age, experince):\n",
    "            super().__init__(name, age,experince)\n",
    "            self.experince=experince\n",
    "\n",
    "    def job_rool(self):\n",
    "        return f\"{self.name}  is a civil engineer with {self.experince}  years of experience , and {self.age} years  old.\"\n",
    "    \n",
    "\n",
    "class  EE_engineer(engineers):\n",
    "\n",
    "    def __init__(self, name, age, experince):\n",
    "            super().__init__(name, age,experince)\n",
    "            self.experince=experince\n",
    "\n",
    "    def job_rool(self):\n",
    "        return f\"{self.name}  is a EE engineer with {self.experince}  years of experience , and {self.age} years old.\"\n",
    "\n",
    "obj=cs_engineer(\"Ravi\",25,5)\n",
    "print(obj.job_rool())\n",
    "\n",
    "obj1=MEC_engineer(\"samarth\",20,4)\n",
    "print(obj1.job_rool())\n",
    "\n",
    "obj2=EC_engineer(\"gourav\",19,3)\n",
    "print(obj2.job_rool())\n",
    "\n",
    "obj3=civil_engineer(\"shankar\",21,2)\n",
    "print(obj3.job_rool())\n",
    "\n",
    "\n",
    "obj4=EE_engineer(\"suswit\",23,6)\n",
    "print(obj4.job_rool())"
   ]
  }
 ],
 "metadata": {
  "kernelspec": {
   "display_name": "Python 3",
   "language": "python",
   "name": "python3"
  },
  "language_info": {
   "codemirror_mode": {
    "name": "ipython",
    "version": 3
   },
   "file_extension": ".py",
   "mimetype": "text/x-python",
   "name": "python",
   "nbconvert_exporter": "python",
   "pygments_lexer": "ipython3",
   "version": "3.11.3"
  },
  "orig_nbformat": 4
 },
 "nbformat": 4,
 "nbformat_minor": 2
}
